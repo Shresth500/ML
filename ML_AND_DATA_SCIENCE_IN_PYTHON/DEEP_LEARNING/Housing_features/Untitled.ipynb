{
 "cells": [
  {
   "cell_type": "markdown",
   "metadata": {},
   "source": [
    "# EXPLORATPORY DATA ANALYSIS"
   ]
  },
  {
   "cell_type": "code",
   "execution_count": 1,
   "metadata": {},
   "outputs": [],
   "source": [
    "import numpy as np\n",
    "import pandas as pd\n",
    "import matplotlib.pyplot as plt\n",
    "import seaborn as sns"
   ]
  },
  {
   "cell_type": "code",
   "execution_count": 2,
   "metadata": {},
   "outputs": [],
   "source": [
    "df=pd.read_csv('kc_house_data.csv')"
   ]
  },
  {
   "cell_type": "code",
   "execution_count": 3,
   "metadata": {
    "scrolled": true
   },
   "outputs": [
    {
     "data": {
      "text/html": [
       "<div>\n",
       "<style scoped>\n",
       "    .dataframe tbody tr th:only-of-type {\n",
       "        vertical-align: middle;\n",
       "    }\n",
       "\n",
       "    .dataframe tbody tr th {\n",
       "        vertical-align: top;\n",
       "    }\n",
       "\n",
       "    .dataframe thead th {\n",
       "        text-align: right;\n",
       "    }\n",
       "</style>\n",
       "<table border=\"1\" class=\"dataframe\">\n",
       "  <thead>\n",
       "    <tr style=\"text-align: right;\">\n",
       "      <th></th>\n",
       "      <th>id</th>\n",
       "      <th>date</th>\n",
       "      <th>price</th>\n",
       "      <th>bedrooms</th>\n",
       "      <th>bathrooms</th>\n",
       "      <th>sqft_living</th>\n",
       "      <th>sqft_lot</th>\n",
       "      <th>floors</th>\n",
       "      <th>waterfront</th>\n",
       "      <th>view</th>\n",
       "      <th>...</th>\n",
       "      <th>grade</th>\n",
       "      <th>sqft_above</th>\n",
       "      <th>sqft_basement</th>\n",
       "      <th>yr_built</th>\n",
       "      <th>yr_renovated</th>\n",
       "      <th>zipcode</th>\n",
       "      <th>lat</th>\n",
       "      <th>long</th>\n",
       "      <th>sqft_living15</th>\n",
       "      <th>sqft_lot15</th>\n",
       "    </tr>\n",
       "  </thead>\n",
       "  <tbody>\n",
       "    <tr>\n",
       "      <th>0</th>\n",
       "      <td>7129300520</td>\n",
       "      <td>20141013T000000</td>\n",
       "      <td>221900.0</td>\n",
       "      <td>3</td>\n",
       "      <td>1.00</td>\n",
       "      <td>1180</td>\n",
       "      <td>5650</td>\n",
       "      <td>1.0</td>\n",
       "      <td>0</td>\n",
       "      <td>0</td>\n",
       "      <td>...</td>\n",
       "      <td>7</td>\n",
       "      <td>1180.0</td>\n",
       "      <td>0</td>\n",
       "      <td>1955</td>\n",
       "      <td>0</td>\n",
       "      <td>98178</td>\n",
       "      <td>47.5112</td>\n",
       "      <td>-122.257</td>\n",
       "      <td>1340</td>\n",
       "      <td>5650</td>\n",
       "    </tr>\n",
       "    <tr>\n",
       "      <th>1</th>\n",
       "      <td>6414100192</td>\n",
       "      <td>20141209T000000</td>\n",
       "      <td>538000.0</td>\n",
       "      <td>3</td>\n",
       "      <td>2.25</td>\n",
       "      <td>2570</td>\n",
       "      <td>7242</td>\n",
       "      <td>2.0</td>\n",
       "      <td>0</td>\n",
       "      <td>0</td>\n",
       "      <td>...</td>\n",
       "      <td>7</td>\n",
       "      <td>2170.0</td>\n",
       "      <td>400</td>\n",
       "      <td>1951</td>\n",
       "      <td>1991</td>\n",
       "      <td>98125</td>\n",
       "      <td>47.7210</td>\n",
       "      <td>-122.319</td>\n",
       "      <td>1690</td>\n",
       "      <td>7639</td>\n",
       "    </tr>\n",
       "    <tr>\n",
       "      <th>2</th>\n",
       "      <td>5631500400</td>\n",
       "      <td>20150225T000000</td>\n",
       "      <td>180000.0</td>\n",
       "      <td>2</td>\n",
       "      <td>1.00</td>\n",
       "      <td>770</td>\n",
       "      <td>10000</td>\n",
       "      <td>1.0</td>\n",
       "      <td>0</td>\n",
       "      <td>0</td>\n",
       "      <td>...</td>\n",
       "      <td>6</td>\n",
       "      <td>770.0</td>\n",
       "      <td>0</td>\n",
       "      <td>1933</td>\n",
       "      <td>0</td>\n",
       "      <td>98028</td>\n",
       "      <td>47.7379</td>\n",
       "      <td>-122.233</td>\n",
       "      <td>2720</td>\n",
       "      <td>8062</td>\n",
       "    </tr>\n",
       "    <tr>\n",
       "      <th>3</th>\n",
       "      <td>2487200875</td>\n",
       "      <td>20141209T000000</td>\n",
       "      <td>604000.0</td>\n",
       "      <td>4</td>\n",
       "      <td>3.00</td>\n",
       "      <td>1960</td>\n",
       "      <td>5000</td>\n",
       "      <td>1.0</td>\n",
       "      <td>0</td>\n",
       "      <td>0</td>\n",
       "      <td>...</td>\n",
       "      <td>7</td>\n",
       "      <td>1050.0</td>\n",
       "      <td>910</td>\n",
       "      <td>1965</td>\n",
       "      <td>0</td>\n",
       "      <td>98136</td>\n",
       "      <td>47.5208</td>\n",
       "      <td>-122.393</td>\n",
       "      <td>1360</td>\n",
       "      <td>5000</td>\n",
       "    </tr>\n",
       "    <tr>\n",
       "      <th>4</th>\n",
       "      <td>1954400510</td>\n",
       "      <td>20150218T000000</td>\n",
       "      <td>510000.0</td>\n",
       "      <td>3</td>\n",
       "      <td>2.00</td>\n",
       "      <td>1680</td>\n",
       "      <td>8080</td>\n",
       "      <td>1.0</td>\n",
       "      <td>0</td>\n",
       "      <td>0</td>\n",
       "      <td>...</td>\n",
       "      <td>8</td>\n",
       "      <td>1680.0</td>\n",
       "      <td>0</td>\n",
       "      <td>1987</td>\n",
       "      <td>0</td>\n",
       "      <td>98074</td>\n",
       "      <td>47.6168</td>\n",
       "      <td>-122.045</td>\n",
       "      <td>1800</td>\n",
       "      <td>7503</td>\n",
       "    </tr>\n",
       "  </tbody>\n",
       "</table>\n",
       "<p>5 rows × 21 columns</p>\n",
       "</div>"
      ],
      "text/plain": [
       "           id             date     price  bedrooms  bathrooms  sqft_living  \\\n",
       "0  7129300520  20141013T000000  221900.0         3       1.00         1180   \n",
       "1  6414100192  20141209T000000  538000.0         3       2.25         2570   \n",
       "2  5631500400  20150225T000000  180000.0         2       1.00          770   \n",
       "3  2487200875  20141209T000000  604000.0         4       3.00         1960   \n",
       "4  1954400510  20150218T000000  510000.0         3       2.00         1680   \n",
       "\n",
       "   sqft_lot  floors  waterfront  view  ...  grade  sqft_above  sqft_basement  \\\n",
       "0      5650     1.0           0     0  ...      7      1180.0              0   \n",
       "1      7242     2.0           0     0  ...      7      2170.0            400   \n",
       "2     10000     1.0           0     0  ...      6       770.0              0   \n",
       "3      5000     1.0           0     0  ...      7      1050.0            910   \n",
       "4      8080     1.0           0     0  ...      8      1680.0              0   \n",
       "\n",
       "   yr_built  yr_renovated  zipcode      lat     long  sqft_living15  \\\n",
       "0      1955             0    98178  47.5112 -122.257           1340   \n",
       "1      1951          1991    98125  47.7210 -122.319           1690   \n",
       "2      1933             0    98028  47.7379 -122.233           2720   \n",
       "3      1965             0    98136  47.5208 -122.393           1360   \n",
       "4      1987             0    98074  47.6168 -122.045           1800   \n",
       "\n",
       "   sqft_lot15  \n",
       "0        5650  \n",
       "1        7639  \n",
       "2        8062  \n",
       "3        5000  \n",
       "4        7503  \n",
       "\n",
       "[5 rows x 21 columns]"
      ]
     },
     "execution_count": 3,
     "metadata": {},
     "output_type": "execute_result"
    }
   ],
   "source": [
    "df.head()"
   ]
  },
  {
   "cell_type": "code",
   "execution_count": 4,
   "metadata": {},
   "outputs": [
    {
     "data": {
      "text/plain": [
       "id               0\n",
       "date             0\n",
       "price            0\n",
       "bedrooms         0\n",
       "bathrooms        0\n",
       "sqft_living      0\n",
       "sqft_lot         0\n",
       "floors           0\n",
       "waterfront       0\n",
       "view             0\n",
       "condition        0\n",
       "grade            0\n",
       "sqft_above       2\n",
       "sqft_basement    0\n",
       "yr_built         0\n",
       "yr_renovated     0\n",
       "zipcode          0\n",
       "lat              0\n",
       "long             0\n",
       "sqft_living15    0\n",
       "sqft_lot15       0\n",
       "dtype: int64"
      ]
     },
     "execution_count": 4,
     "metadata": {},
     "output_type": "execute_result"
    }
   ],
   "source": [
    "# to find out null values \n",
    "df.isnull().sum()"
   ]
  },
  {
   "cell_type": "code",
   "execution_count": 5,
   "metadata": {},
   "outputs": [
    {
     "data": {
      "text/html": [
       "<div>\n",
       "<style scoped>\n",
       "    .dataframe tbody tr th:only-of-type {\n",
       "        vertical-align: middle;\n",
       "    }\n",
       "\n",
       "    .dataframe tbody tr th {\n",
       "        vertical-align: top;\n",
       "    }\n",
       "\n",
       "    .dataframe thead th {\n",
       "        text-align: right;\n",
       "    }\n",
       "</style>\n",
       "<table border=\"1\" class=\"dataframe\">\n",
       "  <thead>\n",
       "    <tr style=\"text-align: right;\">\n",
       "      <th></th>\n",
       "      <th>id</th>\n",
       "      <th>price</th>\n",
       "      <th>bedrooms</th>\n",
       "      <th>bathrooms</th>\n",
       "      <th>sqft_living</th>\n",
       "      <th>sqft_lot</th>\n",
       "      <th>floors</th>\n",
       "      <th>waterfront</th>\n",
       "      <th>view</th>\n",
       "      <th>condition</th>\n",
       "      <th>grade</th>\n",
       "      <th>sqft_above</th>\n",
       "      <th>sqft_basement</th>\n",
       "      <th>yr_built</th>\n",
       "      <th>yr_renovated</th>\n",
       "      <th>zipcode</th>\n",
       "      <th>lat</th>\n",
       "      <th>long</th>\n",
       "      <th>sqft_living15</th>\n",
       "      <th>sqft_lot15</th>\n",
       "    </tr>\n",
       "  </thead>\n",
       "  <tbody>\n",
       "    <tr>\n",
       "      <th>count</th>\n",
       "      <td>2.161300e+04</td>\n",
       "      <td>2.161300e+04</td>\n",
       "      <td>21613.000000</td>\n",
       "      <td>21613.000000</td>\n",
       "      <td>21613.000000</td>\n",
       "      <td>2.161300e+04</td>\n",
       "      <td>21613.000000</td>\n",
       "      <td>21613.000000</td>\n",
       "      <td>21613.000000</td>\n",
       "      <td>21613.000000</td>\n",
       "      <td>21613.000000</td>\n",
       "      <td>21611.000000</td>\n",
       "      <td>21613.000000</td>\n",
       "      <td>21613.000000</td>\n",
       "      <td>21613.000000</td>\n",
       "      <td>21613.000000</td>\n",
       "      <td>21613.000000</td>\n",
       "      <td>21613.000000</td>\n",
       "      <td>21613.000000</td>\n",
       "      <td>21613.000000</td>\n",
       "    </tr>\n",
       "    <tr>\n",
       "      <th>mean</th>\n",
       "      <td>4.580302e+09</td>\n",
       "      <td>5.400881e+05</td>\n",
       "      <td>3.370842</td>\n",
       "      <td>2.114757</td>\n",
       "      <td>2079.899736</td>\n",
       "      <td>1.510697e+04</td>\n",
       "      <td>1.494309</td>\n",
       "      <td>0.007542</td>\n",
       "      <td>0.234303</td>\n",
       "      <td>3.409430</td>\n",
       "      <td>7.656873</td>\n",
       "      <td>1788.396095</td>\n",
       "      <td>291.509045</td>\n",
       "      <td>1971.005136</td>\n",
       "      <td>84.402258</td>\n",
       "      <td>98077.939805</td>\n",
       "      <td>47.560053</td>\n",
       "      <td>-122.213896</td>\n",
       "      <td>1986.552492</td>\n",
       "      <td>12768.455652</td>\n",
       "    </tr>\n",
       "    <tr>\n",
       "      <th>std</th>\n",
       "      <td>2.876566e+09</td>\n",
       "      <td>3.671272e+05</td>\n",
       "      <td>0.930062</td>\n",
       "      <td>0.770163</td>\n",
       "      <td>918.440897</td>\n",
       "      <td>4.142051e+04</td>\n",
       "      <td>0.539989</td>\n",
       "      <td>0.086517</td>\n",
       "      <td>0.766318</td>\n",
       "      <td>0.650743</td>\n",
       "      <td>1.175459</td>\n",
       "      <td>828.128162</td>\n",
       "      <td>442.575043</td>\n",
       "      <td>29.373411</td>\n",
       "      <td>401.679240</td>\n",
       "      <td>53.505026</td>\n",
       "      <td>0.138564</td>\n",
       "      <td>0.140828</td>\n",
       "      <td>685.391304</td>\n",
       "      <td>27304.179631</td>\n",
       "    </tr>\n",
       "    <tr>\n",
       "      <th>min</th>\n",
       "      <td>1.000102e+06</td>\n",
       "      <td>7.500000e+04</td>\n",
       "      <td>0.000000</td>\n",
       "      <td>0.000000</td>\n",
       "      <td>290.000000</td>\n",
       "      <td>5.200000e+02</td>\n",
       "      <td>1.000000</td>\n",
       "      <td>0.000000</td>\n",
       "      <td>0.000000</td>\n",
       "      <td>1.000000</td>\n",
       "      <td>1.000000</td>\n",
       "      <td>290.000000</td>\n",
       "      <td>0.000000</td>\n",
       "      <td>1900.000000</td>\n",
       "      <td>0.000000</td>\n",
       "      <td>98001.000000</td>\n",
       "      <td>47.155900</td>\n",
       "      <td>-122.519000</td>\n",
       "      <td>399.000000</td>\n",
       "      <td>651.000000</td>\n",
       "    </tr>\n",
       "    <tr>\n",
       "      <th>25%</th>\n",
       "      <td>2.123049e+09</td>\n",
       "      <td>3.219500e+05</td>\n",
       "      <td>3.000000</td>\n",
       "      <td>1.750000</td>\n",
       "      <td>1427.000000</td>\n",
       "      <td>5.040000e+03</td>\n",
       "      <td>1.000000</td>\n",
       "      <td>0.000000</td>\n",
       "      <td>0.000000</td>\n",
       "      <td>3.000000</td>\n",
       "      <td>7.000000</td>\n",
       "      <td>1190.000000</td>\n",
       "      <td>0.000000</td>\n",
       "      <td>1951.000000</td>\n",
       "      <td>0.000000</td>\n",
       "      <td>98033.000000</td>\n",
       "      <td>47.471000</td>\n",
       "      <td>-122.328000</td>\n",
       "      <td>1490.000000</td>\n",
       "      <td>5100.000000</td>\n",
       "    </tr>\n",
       "    <tr>\n",
       "      <th>50%</th>\n",
       "      <td>3.904930e+09</td>\n",
       "      <td>4.500000e+05</td>\n",
       "      <td>3.000000</td>\n",
       "      <td>2.250000</td>\n",
       "      <td>1910.000000</td>\n",
       "      <td>7.618000e+03</td>\n",
       "      <td>1.500000</td>\n",
       "      <td>0.000000</td>\n",
       "      <td>0.000000</td>\n",
       "      <td>3.000000</td>\n",
       "      <td>7.000000</td>\n",
       "      <td>1560.000000</td>\n",
       "      <td>0.000000</td>\n",
       "      <td>1975.000000</td>\n",
       "      <td>0.000000</td>\n",
       "      <td>98065.000000</td>\n",
       "      <td>47.571800</td>\n",
       "      <td>-122.230000</td>\n",
       "      <td>1840.000000</td>\n",
       "      <td>7620.000000</td>\n",
       "    </tr>\n",
       "    <tr>\n",
       "      <th>75%</th>\n",
       "      <td>7.308900e+09</td>\n",
       "      <td>6.450000e+05</td>\n",
       "      <td>4.000000</td>\n",
       "      <td>2.500000</td>\n",
       "      <td>2550.000000</td>\n",
       "      <td>1.068800e+04</td>\n",
       "      <td>2.000000</td>\n",
       "      <td>0.000000</td>\n",
       "      <td>0.000000</td>\n",
       "      <td>4.000000</td>\n",
       "      <td>8.000000</td>\n",
       "      <td>2210.000000</td>\n",
       "      <td>560.000000</td>\n",
       "      <td>1997.000000</td>\n",
       "      <td>0.000000</td>\n",
       "      <td>98118.000000</td>\n",
       "      <td>47.678000</td>\n",
       "      <td>-122.125000</td>\n",
       "      <td>2360.000000</td>\n",
       "      <td>10083.000000</td>\n",
       "    </tr>\n",
       "    <tr>\n",
       "      <th>max</th>\n",
       "      <td>9.900000e+09</td>\n",
       "      <td>7.700000e+06</td>\n",
       "      <td>33.000000</td>\n",
       "      <td>8.000000</td>\n",
       "      <td>13540.000000</td>\n",
       "      <td>1.651359e+06</td>\n",
       "      <td>3.500000</td>\n",
       "      <td>1.000000</td>\n",
       "      <td>4.000000</td>\n",
       "      <td>5.000000</td>\n",
       "      <td>13.000000</td>\n",
       "      <td>9410.000000</td>\n",
       "      <td>4820.000000</td>\n",
       "      <td>2015.000000</td>\n",
       "      <td>2015.000000</td>\n",
       "      <td>98199.000000</td>\n",
       "      <td>47.777600</td>\n",
       "      <td>-121.315000</td>\n",
       "      <td>6210.000000</td>\n",
       "      <td>871200.000000</td>\n",
       "    </tr>\n",
       "  </tbody>\n",
       "</table>\n",
       "</div>"
      ],
      "text/plain": [
       "                 id         price      bedrooms     bathrooms   sqft_living  \\\n",
       "count  2.161300e+04  2.161300e+04  21613.000000  21613.000000  21613.000000   \n",
       "mean   4.580302e+09  5.400881e+05      3.370842      2.114757   2079.899736   \n",
       "std    2.876566e+09  3.671272e+05      0.930062      0.770163    918.440897   \n",
       "min    1.000102e+06  7.500000e+04      0.000000      0.000000    290.000000   \n",
       "25%    2.123049e+09  3.219500e+05      3.000000      1.750000   1427.000000   \n",
       "50%    3.904930e+09  4.500000e+05      3.000000      2.250000   1910.000000   \n",
       "75%    7.308900e+09  6.450000e+05      4.000000      2.500000   2550.000000   \n",
       "max    9.900000e+09  7.700000e+06     33.000000      8.000000  13540.000000   \n",
       "\n",
       "           sqft_lot        floors    waterfront          view     condition  \\\n",
       "count  2.161300e+04  21613.000000  21613.000000  21613.000000  21613.000000   \n",
       "mean   1.510697e+04      1.494309      0.007542      0.234303      3.409430   \n",
       "std    4.142051e+04      0.539989      0.086517      0.766318      0.650743   \n",
       "min    5.200000e+02      1.000000      0.000000      0.000000      1.000000   \n",
       "25%    5.040000e+03      1.000000      0.000000      0.000000      3.000000   \n",
       "50%    7.618000e+03      1.500000      0.000000      0.000000      3.000000   \n",
       "75%    1.068800e+04      2.000000      0.000000      0.000000      4.000000   \n",
       "max    1.651359e+06      3.500000      1.000000      4.000000      5.000000   \n",
       "\n",
       "              grade    sqft_above  sqft_basement      yr_built  yr_renovated  \\\n",
       "count  21613.000000  21611.000000   21613.000000  21613.000000  21613.000000   \n",
       "mean       7.656873   1788.396095     291.509045   1971.005136     84.402258   \n",
       "std        1.175459    828.128162     442.575043     29.373411    401.679240   \n",
       "min        1.000000    290.000000       0.000000   1900.000000      0.000000   \n",
       "25%        7.000000   1190.000000       0.000000   1951.000000      0.000000   \n",
       "50%        7.000000   1560.000000       0.000000   1975.000000      0.000000   \n",
       "75%        8.000000   2210.000000     560.000000   1997.000000      0.000000   \n",
       "max       13.000000   9410.000000    4820.000000   2015.000000   2015.000000   \n",
       "\n",
       "            zipcode           lat          long  sqft_living15     sqft_lot15  \n",
       "count  21613.000000  21613.000000  21613.000000   21613.000000   21613.000000  \n",
       "mean   98077.939805     47.560053   -122.213896    1986.552492   12768.455652  \n",
       "std       53.505026      0.138564      0.140828     685.391304   27304.179631  \n",
       "min    98001.000000     47.155900   -122.519000     399.000000     651.000000  \n",
       "25%    98033.000000     47.471000   -122.328000    1490.000000    5100.000000  \n",
       "50%    98065.000000     47.571800   -122.230000    1840.000000    7620.000000  \n",
       "75%    98118.000000     47.678000   -122.125000    2360.000000   10083.000000  \n",
       "max    98199.000000     47.777600   -121.315000    6210.000000  871200.000000  "
      ]
     },
     "execution_count": 5,
     "metadata": {},
     "output_type": "execute_result"
    }
   ],
   "source": [
    "df.describe()"
   ]
  },
  {
   "cell_type": "code",
   "execution_count": 6,
   "metadata": {},
   "outputs": [
    {
     "data": {
      "text/html": [
       "<div>\n",
       "<style scoped>\n",
       "    .dataframe tbody tr th:only-of-type {\n",
       "        vertical-align: middle;\n",
       "    }\n",
       "\n",
       "    .dataframe tbody tr th {\n",
       "        vertical-align: top;\n",
       "    }\n",
       "\n",
       "    .dataframe thead th {\n",
       "        text-align: right;\n",
       "    }\n",
       "</style>\n",
       "<table border=\"1\" class=\"dataframe\">\n",
       "  <thead>\n",
       "    <tr style=\"text-align: right;\">\n",
       "      <th></th>\n",
       "      <th>count</th>\n",
       "      <th>mean</th>\n",
       "      <th>std</th>\n",
       "      <th>min</th>\n",
       "      <th>25%</th>\n",
       "      <th>50%</th>\n",
       "      <th>75%</th>\n",
       "      <th>max</th>\n",
       "    </tr>\n",
       "  </thead>\n",
       "  <tbody>\n",
       "    <tr>\n",
       "      <th>id</th>\n",
       "      <td>21613.0</td>\n",
       "      <td>4.580302e+09</td>\n",
       "      <td>2.876566e+09</td>\n",
       "      <td>1.000102e+06</td>\n",
       "      <td>2.123049e+09</td>\n",
       "      <td>3.904930e+09</td>\n",
       "      <td>7.308900e+09</td>\n",
       "      <td>9.900000e+09</td>\n",
       "    </tr>\n",
       "    <tr>\n",
       "      <th>price</th>\n",
       "      <td>21613.0</td>\n",
       "      <td>5.400881e+05</td>\n",
       "      <td>3.671272e+05</td>\n",
       "      <td>7.500000e+04</td>\n",
       "      <td>3.219500e+05</td>\n",
       "      <td>4.500000e+05</td>\n",
       "      <td>6.450000e+05</td>\n",
       "      <td>7.700000e+06</td>\n",
       "    </tr>\n",
       "    <tr>\n",
       "      <th>bedrooms</th>\n",
       "      <td>21613.0</td>\n",
       "      <td>3.370842e+00</td>\n",
       "      <td>9.300618e-01</td>\n",
       "      <td>0.000000e+00</td>\n",
       "      <td>3.000000e+00</td>\n",
       "      <td>3.000000e+00</td>\n",
       "      <td>4.000000e+00</td>\n",
       "      <td>3.300000e+01</td>\n",
       "    </tr>\n",
       "    <tr>\n",
       "      <th>bathrooms</th>\n",
       "      <td>21613.0</td>\n",
       "      <td>2.114757e+00</td>\n",
       "      <td>7.701632e-01</td>\n",
       "      <td>0.000000e+00</td>\n",
       "      <td>1.750000e+00</td>\n",
       "      <td>2.250000e+00</td>\n",
       "      <td>2.500000e+00</td>\n",
       "      <td>8.000000e+00</td>\n",
       "    </tr>\n",
       "    <tr>\n",
       "      <th>sqft_living</th>\n",
       "      <td>21613.0</td>\n",
       "      <td>2.079900e+03</td>\n",
       "      <td>9.184409e+02</td>\n",
       "      <td>2.900000e+02</td>\n",
       "      <td>1.427000e+03</td>\n",
       "      <td>1.910000e+03</td>\n",
       "      <td>2.550000e+03</td>\n",
       "      <td>1.354000e+04</td>\n",
       "    </tr>\n",
       "    <tr>\n",
       "      <th>sqft_lot</th>\n",
       "      <td>21613.0</td>\n",
       "      <td>1.510697e+04</td>\n",
       "      <td>4.142051e+04</td>\n",
       "      <td>5.200000e+02</td>\n",
       "      <td>5.040000e+03</td>\n",
       "      <td>7.618000e+03</td>\n",
       "      <td>1.068800e+04</td>\n",
       "      <td>1.651359e+06</td>\n",
       "    </tr>\n",
       "    <tr>\n",
       "      <th>floors</th>\n",
       "      <td>21613.0</td>\n",
       "      <td>1.494309e+00</td>\n",
       "      <td>5.399889e-01</td>\n",
       "      <td>1.000000e+00</td>\n",
       "      <td>1.000000e+00</td>\n",
       "      <td>1.500000e+00</td>\n",
       "      <td>2.000000e+00</td>\n",
       "      <td>3.500000e+00</td>\n",
       "    </tr>\n",
       "    <tr>\n",
       "      <th>waterfront</th>\n",
       "      <td>21613.0</td>\n",
       "      <td>7.541757e-03</td>\n",
       "      <td>8.651720e-02</td>\n",
       "      <td>0.000000e+00</td>\n",
       "      <td>0.000000e+00</td>\n",
       "      <td>0.000000e+00</td>\n",
       "      <td>0.000000e+00</td>\n",
       "      <td>1.000000e+00</td>\n",
       "    </tr>\n",
       "    <tr>\n",
       "      <th>view</th>\n",
       "      <td>21613.0</td>\n",
       "      <td>2.343034e-01</td>\n",
       "      <td>7.663176e-01</td>\n",
       "      <td>0.000000e+00</td>\n",
       "      <td>0.000000e+00</td>\n",
       "      <td>0.000000e+00</td>\n",
       "      <td>0.000000e+00</td>\n",
       "      <td>4.000000e+00</td>\n",
       "    </tr>\n",
       "    <tr>\n",
       "      <th>condition</th>\n",
       "      <td>21613.0</td>\n",
       "      <td>3.409430e+00</td>\n",
       "      <td>6.507430e-01</td>\n",
       "      <td>1.000000e+00</td>\n",
       "      <td>3.000000e+00</td>\n",
       "      <td>3.000000e+00</td>\n",
       "      <td>4.000000e+00</td>\n",
       "      <td>5.000000e+00</td>\n",
       "    </tr>\n",
       "    <tr>\n",
       "      <th>grade</th>\n",
       "      <td>21613.0</td>\n",
       "      <td>7.656873e+00</td>\n",
       "      <td>1.175459e+00</td>\n",
       "      <td>1.000000e+00</td>\n",
       "      <td>7.000000e+00</td>\n",
       "      <td>7.000000e+00</td>\n",
       "      <td>8.000000e+00</td>\n",
       "      <td>1.300000e+01</td>\n",
       "    </tr>\n",
       "    <tr>\n",
       "      <th>sqft_above</th>\n",
       "      <td>21611.0</td>\n",
       "      <td>1.788396e+03</td>\n",
       "      <td>8.281282e+02</td>\n",
       "      <td>2.900000e+02</td>\n",
       "      <td>1.190000e+03</td>\n",
       "      <td>1.560000e+03</td>\n",
       "      <td>2.210000e+03</td>\n",
       "      <td>9.410000e+03</td>\n",
       "    </tr>\n",
       "    <tr>\n",
       "      <th>sqft_basement</th>\n",
       "      <td>21613.0</td>\n",
       "      <td>2.915090e+02</td>\n",
       "      <td>4.425750e+02</td>\n",
       "      <td>0.000000e+00</td>\n",
       "      <td>0.000000e+00</td>\n",
       "      <td>0.000000e+00</td>\n",
       "      <td>5.600000e+02</td>\n",
       "      <td>4.820000e+03</td>\n",
       "    </tr>\n",
       "    <tr>\n",
       "      <th>yr_built</th>\n",
       "      <td>21613.0</td>\n",
       "      <td>1.971005e+03</td>\n",
       "      <td>2.937341e+01</td>\n",
       "      <td>1.900000e+03</td>\n",
       "      <td>1.951000e+03</td>\n",
       "      <td>1.975000e+03</td>\n",
       "      <td>1.997000e+03</td>\n",
       "      <td>2.015000e+03</td>\n",
       "    </tr>\n",
       "    <tr>\n",
       "      <th>yr_renovated</th>\n",
       "      <td>21613.0</td>\n",
       "      <td>8.440226e+01</td>\n",
       "      <td>4.016792e+02</td>\n",
       "      <td>0.000000e+00</td>\n",
       "      <td>0.000000e+00</td>\n",
       "      <td>0.000000e+00</td>\n",
       "      <td>0.000000e+00</td>\n",
       "      <td>2.015000e+03</td>\n",
       "    </tr>\n",
       "    <tr>\n",
       "      <th>zipcode</th>\n",
       "      <td>21613.0</td>\n",
       "      <td>9.807794e+04</td>\n",
       "      <td>5.350503e+01</td>\n",
       "      <td>9.800100e+04</td>\n",
       "      <td>9.803300e+04</td>\n",
       "      <td>9.806500e+04</td>\n",
       "      <td>9.811800e+04</td>\n",
       "      <td>9.819900e+04</td>\n",
       "    </tr>\n",
       "    <tr>\n",
       "      <th>lat</th>\n",
       "      <td>21613.0</td>\n",
       "      <td>4.756005e+01</td>\n",
       "      <td>1.385637e-01</td>\n",
       "      <td>4.715590e+01</td>\n",
       "      <td>4.747100e+01</td>\n",
       "      <td>4.757180e+01</td>\n",
       "      <td>4.767800e+01</td>\n",
       "      <td>4.777760e+01</td>\n",
       "    </tr>\n",
       "    <tr>\n",
       "      <th>long</th>\n",
       "      <td>21613.0</td>\n",
       "      <td>-1.222139e+02</td>\n",
       "      <td>1.408283e-01</td>\n",
       "      <td>-1.225190e+02</td>\n",
       "      <td>-1.223280e+02</td>\n",
       "      <td>-1.222300e+02</td>\n",
       "      <td>-1.221250e+02</td>\n",
       "      <td>-1.213150e+02</td>\n",
       "    </tr>\n",
       "    <tr>\n",
       "      <th>sqft_living15</th>\n",
       "      <td>21613.0</td>\n",
       "      <td>1.986552e+03</td>\n",
       "      <td>6.853913e+02</td>\n",
       "      <td>3.990000e+02</td>\n",
       "      <td>1.490000e+03</td>\n",
       "      <td>1.840000e+03</td>\n",
       "      <td>2.360000e+03</td>\n",
       "      <td>6.210000e+03</td>\n",
       "    </tr>\n",
       "    <tr>\n",
       "      <th>sqft_lot15</th>\n",
       "      <td>21613.0</td>\n",
       "      <td>1.276846e+04</td>\n",
       "      <td>2.730418e+04</td>\n",
       "      <td>6.510000e+02</td>\n",
       "      <td>5.100000e+03</td>\n",
       "      <td>7.620000e+03</td>\n",
       "      <td>1.008300e+04</td>\n",
       "      <td>8.712000e+05</td>\n",
       "    </tr>\n",
       "  </tbody>\n",
       "</table>\n",
       "</div>"
      ],
      "text/plain": [
       "                 count          mean           std           min  \\\n",
       "id             21613.0  4.580302e+09  2.876566e+09  1.000102e+06   \n",
       "price          21613.0  5.400881e+05  3.671272e+05  7.500000e+04   \n",
       "bedrooms       21613.0  3.370842e+00  9.300618e-01  0.000000e+00   \n",
       "bathrooms      21613.0  2.114757e+00  7.701632e-01  0.000000e+00   \n",
       "sqft_living    21613.0  2.079900e+03  9.184409e+02  2.900000e+02   \n",
       "sqft_lot       21613.0  1.510697e+04  4.142051e+04  5.200000e+02   \n",
       "floors         21613.0  1.494309e+00  5.399889e-01  1.000000e+00   \n",
       "waterfront     21613.0  7.541757e-03  8.651720e-02  0.000000e+00   \n",
       "view           21613.0  2.343034e-01  7.663176e-01  0.000000e+00   \n",
       "condition      21613.0  3.409430e+00  6.507430e-01  1.000000e+00   \n",
       "grade          21613.0  7.656873e+00  1.175459e+00  1.000000e+00   \n",
       "sqft_above     21611.0  1.788396e+03  8.281282e+02  2.900000e+02   \n",
       "sqft_basement  21613.0  2.915090e+02  4.425750e+02  0.000000e+00   \n",
       "yr_built       21613.0  1.971005e+03  2.937341e+01  1.900000e+03   \n",
       "yr_renovated   21613.0  8.440226e+01  4.016792e+02  0.000000e+00   \n",
       "zipcode        21613.0  9.807794e+04  5.350503e+01  9.800100e+04   \n",
       "lat            21613.0  4.756005e+01  1.385637e-01  4.715590e+01   \n",
       "long           21613.0 -1.222139e+02  1.408283e-01 -1.225190e+02   \n",
       "sqft_living15  21613.0  1.986552e+03  6.853913e+02  3.990000e+02   \n",
       "sqft_lot15     21613.0  1.276846e+04  2.730418e+04  6.510000e+02   \n",
       "\n",
       "                        25%           50%           75%           max  \n",
       "id             2.123049e+09  3.904930e+09  7.308900e+09  9.900000e+09  \n",
       "price          3.219500e+05  4.500000e+05  6.450000e+05  7.700000e+06  \n",
       "bedrooms       3.000000e+00  3.000000e+00  4.000000e+00  3.300000e+01  \n",
       "bathrooms      1.750000e+00  2.250000e+00  2.500000e+00  8.000000e+00  \n",
       "sqft_living    1.427000e+03  1.910000e+03  2.550000e+03  1.354000e+04  \n",
       "sqft_lot       5.040000e+03  7.618000e+03  1.068800e+04  1.651359e+06  \n",
       "floors         1.000000e+00  1.500000e+00  2.000000e+00  3.500000e+00  \n",
       "waterfront     0.000000e+00  0.000000e+00  0.000000e+00  1.000000e+00  \n",
       "view           0.000000e+00  0.000000e+00  0.000000e+00  4.000000e+00  \n",
       "condition      3.000000e+00  3.000000e+00  4.000000e+00  5.000000e+00  \n",
       "grade          7.000000e+00  7.000000e+00  8.000000e+00  1.300000e+01  \n",
       "sqft_above     1.190000e+03  1.560000e+03  2.210000e+03  9.410000e+03  \n",
       "sqft_basement  0.000000e+00  0.000000e+00  5.600000e+02  4.820000e+03  \n",
       "yr_built       1.951000e+03  1.975000e+03  1.997000e+03  2.015000e+03  \n",
       "yr_renovated   0.000000e+00  0.000000e+00  0.000000e+00  2.015000e+03  \n",
       "zipcode        9.803300e+04  9.806500e+04  9.811800e+04  9.819900e+04  \n",
       "lat            4.747100e+01  4.757180e+01  4.767800e+01  4.777760e+01  \n",
       "long          -1.223280e+02 -1.222300e+02 -1.221250e+02 -1.213150e+02  \n",
       "sqft_living15  1.490000e+03  1.840000e+03  2.360000e+03  6.210000e+03  \n",
       "sqft_lot15     5.100000e+03  7.620000e+03  1.008300e+04  8.712000e+05  "
      ]
     },
     "execution_count": 6,
     "metadata": {},
     "output_type": "execute_result"
    }
   ],
   "source": [
    "df.describe().transpose()"
   ]
  },
  {
   "cell_type": "markdown",
   "metadata": {},
   "source": [
    "# DATA VISUALIZATION"
   ]
  },
  {
   "cell_type": "code",
   "execution_count": 7,
   "metadata": {},
   "outputs": [
    {
     "data": {
      "text/plain": [
       "array([ 7,  6,  8, 11,  9,  5, 10, 12,  4,  3, 13,  1], dtype=int64)"
      ]
     },
     "execution_count": 7,
     "metadata": {},
     "output_type": "execute_result"
    }
   ],
   "source": [
    "df['grade'].unique()"
   ]
  },
  {
   "cell_type": "code",
   "execution_count": 8,
   "metadata": {},
   "outputs": [
    {
     "data": {
      "text/plain": [
       "<AxesSubplot:xlabel='bedrooms', ylabel='price'>"
      ]
     },
     "execution_count": 8,
     "metadata": {},
     "output_type": "execute_result"
    },
    {
     "data": {
      "image/png": "[encoded data removed]",
      "text/plain": [
       "<Figure size 432x288 with 1 Axes>"
      ]
     },
     "metadata": {
      "needs_background": "light"
     },
     "output_type": "display_data"
    }
   ],
   "source": [
    "sns.barplot(x='bedrooms',y='price',data=df,ci=\"sd\",capsize=0.1)"
   ]
  },
  {
   "cell_type": "code",
   "execution_count": 9,
   "metadata": {},
   "outputs": [
    {
     "data": {
      "text/plain": [
       "<AxesSubplot:xlabel='bedrooms', ylabel='price'>"
      ]
     },
     "execution_count": 9,
     "metadata": {},
     "output_type": "execute_result"
    },
    {
     "data": {
      "image/png": "[encoded data removed]",
      "text/plain": [
       "<Figure size 432x288 with 1 Axes>"
      ]
     },
     "metadata": {
      "needs_background": "light"
     },
     "output_type": "display_data"
    }
   ],
   "source": [
    "sns.lineplot(x='bedrooms',y='price',data=df)"
   ]
  },
  {
   "cell_type": "code",
   "execution_count": 10,
   "metadata": {},
   "outputs": [
    {
     "data": {
      "text/plain": [
       "<AxesSubplot:xlabel='bathrooms', ylabel='price'>"
      ]
     },
     "execution_count": 10,
     "metadata": {},
     "output_type": "execute_result"
    },
    {
     "data": {
      "image/png": "[encoded data removed]",
      "text/plain": [
       "<Figure size 432x288 with 1 Axes>"
      ]
     },
     "metadata": {
      "needs_background": "light"
     },
     "output_type": "display_data"
    }
   ],
   "source": [
    "sns.barplot(x='bathrooms',y='price',data=df)"
   ]
  },
  {
   "cell_type": "code",
   "execution_count": 11,
   "metadata": {},
   "outputs": [],
   "source": [
    "#sns.pairplot(data=df)"
   ]
  },
  {
   "cell_type": "code",
   "execution_count": 12,
   "metadata": {},
   "outputs": [
    {
     "name": "stderr",
     "output_type": "stream",
     "text": [
      "C:\\Users\\KIIT\\anaconda3\\lib\\site-packages\\seaborn\\distributions.py:2551: FutureWarning: `distplot` is a deprecated function and will be removed in a future version. Please adapt your code to use either `displot` (a figure-level function with similar flexibility) or `histplot` (an axes-level function for histograms).\n",
      "  warnings.warn(msg, FutureWarning)\n"
     ]
    },
    {
     "data": {
      "text/plain": [
       "<AxesSubplot:xlabel='price', ylabel='Density'>"
      ]
     },
     "execution_count": 12,
     "metadata": {},
     "output_type": "execute_result"
    },
    {
     "data": {
      "image/png": "[encoded data removed]",
      "text/plain": [
       "<Figure size 432x288 with 1 Axes>"
      ]
     },
     "metadata": {
      "needs_background": "light"
     },
     "output_type": "display_data"
    }
   ],
   "source": [
    "sns.distplot(df['price'])"
   ]
  },
  {
   "cell_type": "code",
   "execution_count": 13,
   "metadata": {},
   "outputs": [
    {
     "name": "stderr",
     "output_type": "stream",
     "text": [
      "C:\\Users\\KIIT\\anaconda3\\lib\\site-packages\\seaborn\\_decorators.py:36: FutureWarning: Pass the following variable as a keyword arg: x. From version 0.12, the only valid positional argument will be `data`, and passing other arguments without an explicit keyword will result in an error or misinterpretation.\n",
      "  warnings.warn(\n"
     ]
    },
    {
     "data": {
      "text/plain": [
       "<AxesSubplot:xlabel='bedrooms', ylabel='count'>"
      ]
     },
     "execution_count": 13,
     "metadata": {},
     "output_type": "execute_result"
    },
    {
     "data": {
      "image/png": "[encoded data removed]",
      "text/plain": [
       "<Figure size 432x288 with 1 Axes>"
      ]
     },
     "metadata": {
      "needs_background": "light"
     },
     "output_type": "display_data"
    }
   ],
   "source": [
    "sns.countplot(df['bedrooms'])"
   ]
  },
  {
   "cell_type": "code",
   "execution_count": 14,
   "metadata": {},
   "outputs": [],
   "source": [
    "correlation=df.corr()"
   ]
  },
  {
   "cell_type": "code",
   "execution_count": 15,
   "metadata": {},
   "outputs": [
    {
     "data": {
      "text/plain": [
       "id              -0.016762\n",
       "price            1.000000\n",
       "bedrooms         0.308350\n",
       "bathrooms        0.525138\n",
       "sqft_living      0.702035\n",
       "sqft_lot         0.089661\n",
       "floors           0.256794\n",
       "waterfront       0.266369\n",
       "view             0.397293\n",
       "condition        0.036362\n",
       "grade            0.667434\n",
       "sqft_above       0.605567\n",
       "sqft_basement    0.323816\n",
       "yr_built         0.054012\n",
       "yr_renovated     0.126434\n",
       "zipcode         -0.053203\n",
       "lat              0.307003\n",
       "long             0.021626\n",
       "sqft_living15    0.585379\n",
       "sqft_lot15       0.082447\n",
       "Name: price, dtype: float64"
      ]
     },
     "execution_count": 15,
     "metadata": {},
     "output_type": "execute_result"
    }
   ],
   "source": [
    "correlation['price']"
   ]
  },
  {
   "cell_type": "code",
   "execution_count": 16,
   "metadata": {},
   "outputs": [
    {
     "data": {
      "text/plain": [
       "array([-0.0167622 ,  1.        ,  0.3083496 ,  0.52513751,  0.70203505,\n",
       "        0.08966086,  0.25679389,  0.26636943,  0.39729349,  0.03636179,\n",
       "        0.66743426,  0.60556709,  0.32381602,  0.05401153,  0.12643379,\n",
       "       -0.05320285,  0.30700348,  0.02162624,  0.5853789 ,  0.08244715])"
      ]
     },
     "execution_count": 16,
     "metadata": {},
     "output_type": "execute_result"
    }
   ],
   "source": [
    "n = np.array(correlation['price'])\n",
    "n"
   ]
  },
  {
   "cell_type": "code",
   "execution_count": 17,
   "metadata": {},
   "outputs": [
    {
     "name": "stdout",
     "output_type": "stream",
     "text": [
      "None\n"
     ]
    },
    {
     "data": {
      "text/plain": [
       "array([ 1.        ,  0.70203505,  0.66743426,  0.60556709,  0.5853789 ,\n",
       "        0.52513751,  0.39729349,  0.32381602,  0.3083496 ,  0.30700348,\n",
       "        0.26636943,  0.25679389,  0.12643379,  0.08966086,  0.08244715,\n",
       "        0.05401153,  0.03636179,  0.02162624, -0.0167622 , -0.05320285])"
      ]
     },
     "execution_count": 17,
     "metadata": {},
     "output_type": "execute_result"
    }
   ],
   "source": [
    "print(n.sort())\n",
    "n[::-1]"
   ]
  },
  {
   "cell_type": "code",
   "execution_count": 18,
   "metadata": {},
   "outputs": [
    {
     "data": {
      "text/plain": [
       "price            1.000000\n",
       "sqft_living      0.702035\n",
       "grade            0.667434\n",
       "sqft_above       0.605567\n",
       "sqft_living15    0.585379\n",
       "bathrooms        0.525138\n",
       "view             0.397293\n",
       "sqft_basement    0.323816\n",
       "bedrooms         0.308350\n",
       "lat              0.307003\n",
       "waterfront       0.266369\n",
       "floors           0.256794\n",
       "yr_renovated     0.126434\n",
       "sqft_lot         0.089661\n",
       "sqft_lot15       0.082447\n",
       "yr_built         0.054012\n",
       "condition        0.036362\n",
       "long             0.021626\n",
       "id              -0.016762\n",
       "zipcode         -0.053203\n",
       "Name: price, dtype: float64"
      ]
     },
     "execution_count": 18,
     "metadata": {},
     "output_type": "execute_result"
    }
   ],
   "source": [
    "correlation['price'].sort_values()[::-1]"
   ]
  },
  {
   "cell_type": "code",
   "execution_count": 19,
   "metadata": {},
   "outputs": [
    {
     "data": {
      "text/plain": [
       "<AxesSubplot:xlabel='price', ylabel='sqft_living'>"
      ]
     },
     "execution_count": 19,
     "metadata": {},
     "output_type": "execute_result"
    },
    {
     "data": {
      "image/png": "[encoded data removed]",
      "text/plain": [
       "<Figure size 432x288 with 1 Axes>"
      ]
     },
     "metadata": {
      "needs_background": "light"
     },
     "output_type": "display_data"
    }
   ],
   "source": [
    "sns.scatterplot(x='price',y='sqft_living',data=df)"
   ]
  },
  {
   "cell_type": "code",
   "execution_count": 20,
   "metadata": {},
   "outputs": [
    {
     "data": {
      "text/plain": [
       "<AxesSubplot:xlabel='price', ylabel='sqft_lot'>"
      ]
     },
     "execution_count": 20,
     "metadata": {},
     "output_type": "execute_result"
    },
    {
     "data": {
      "image/png": "[encoded data removed]",
      "text/plain": [
       "<Figure size 432x288 with 1 Axes>"
      ]
     },
     "metadata": {
      "needs_background": "light"
     },
     "output_type": "display_data"
    }
   ],
   "source": [
    "sns.scatterplot(x='price',y='sqft_lot',data=df)"
   ]
  },
  {
   "cell_type": "code",
   "execution_count": 21,
   "metadata": {},
   "outputs": [
    {
     "data": {
      "text/plain": [
       "Index(['id', 'date', 'price', 'bedrooms', 'bathrooms', 'sqft_living',\n",
       "       'sqft_lot', 'floors', 'waterfront', 'view', 'condition', 'grade',\n",
       "       'sqft_above', 'sqft_basement', 'yr_built', 'yr_renovated', 'zipcode',\n",
       "       'lat', 'long', 'sqft_living15', 'sqft_lot15'],\n",
       "      dtype='object')"
      ]
     },
     "execution_count": 21,
     "metadata": {},
     "output_type": "execute_result"
    }
   ],
   "source": [
    "df.columns"
   ]
  },
  {
   "cell_type": "code",
   "execution_count": 22,
   "metadata": {},
   "outputs": [
    {
     "data": {
      "text/plain": [
       "<AxesSubplot:xlabel='price', ylabel='long'>"
      ]
     },
     "execution_count": 22,
     "metadata": {},
     "output_type": "execute_result"
    },
    {
     "data": {
      "image/png": "[encoded data removed]",
      "text/plain": [
       "<Figure size 720x432 with 1 Axes>"
      ]
     },
     "metadata": {
      "needs_background": "light"
     },
     "output_type": "display_data"
    }
   ],
   "source": [
    "plt.figure(figsize=(10,6))\n",
    "sns.scatterplot(x='price',y='long',data=df)"
   ]
  },
  {
   "cell_type": "code",
   "execution_count": 23,
   "metadata": {},
   "outputs": [
    {
     "data": {
      "text/plain": [
       "<AxesSubplot:xlabel='price', ylabel='lat'>"
      ]
     },
     "execution_count": 23,
     "metadata": {},
     "output_type": "execute_result"
    },
    {
     "data": {
      "image/png": "[encoded data removed]",
      "text/plain": [
       "<Figure size 720x432 with 1 Axes>"
      ]
     },
     "metadata": {
      "needs_background": "light"
     },
     "output_type": "display_data"
    }
   ],
   "source": [
    "plt.figure(figsize=(10,6))\n",
    "sns.scatterplot(x='price',y='lat',data=df)"
   ]
  },
  {
   "cell_type": "code",
   "execution_count": 24,
   "metadata": {},
   "outputs": [
    {
     "data": {
      "text/plain": [
       "<AxesSubplot:xlabel='long', ylabel='lat'>"
      ]
     },
     "execution_count": 24,
     "metadata": {},
     "output_type": "execute_result"
    },
    {
     "data": {
      "image/png": "[encoded data removed]",
      "text/plain": [
       "<Figure size 720x432 with 1 Axes>"
      ]
     },
     "metadata": {
      "needs_background": "light"
     },
     "output_type": "display_data"
    }
   ],
   "source": [
    "plt.figure(figsize=(10,6))\n",
    "sns.scatterplot(x='long',y='lat',data=df,hue='price')"
   ]
  },
  {
   "cell_type": "code",
   "execution_count": 25,
   "metadata": {},
   "outputs": [
    {
     "data": {
      "text/plain": [
       "<AxesSubplot:xlabel='long', ylabel='lat'>"
      ]
     },
     "execution_count": 25,
     "metadata": {},
     "output_type": "execute_result"
    },
    {
     "data": {
      "image/png": "[encoded data removed]",
      "text/plain": [
       "<Figure size 720x432 with 1 Axes>"
      ]
     },
     "metadata": {
      "needs_background": "light"
     },
     "output_type": "display_data"
    }
   ],
   "source": [
    "plt.figure(figsize=(10,6))\n",
    "sns.scatterplot(x='long',y='lat',data=df,hue='price',palette='RdYlGn',edgecolor=None)"
   ]
  },
  {
   "cell_type": "code",
   "execution_count": 26,
   "metadata": {},
   "outputs": [
    {
     "data": {
      "text/html": [
       "<div>\n",
       "<style scoped>\n",
       "    .dataframe tbody tr th:only-of-type {\n",
       "        vertical-align: middle;\n",
       "    }\n",
       "\n",
       "    .dataframe tbody tr th {\n",
       "        vertical-align: top;\n",
       "    }\n",
       "\n",
       "    .dataframe thead th {\n",
       "        text-align: right;\n",
       "    }\n",
       "</style>\n",
       "<table border=\"1\" class=\"dataframe\">\n",
       "  <thead>\n",
       "    <tr style=\"text-align: right;\">\n",
       "      <th></th>\n",
       "      <th>id</th>\n",
       "      <th>date</th>\n",
       "      <th>price</th>\n",
       "      <th>bedrooms</th>\n",
       "      <th>bathrooms</th>\n",
       "      <th>sqft_living</th>\n",
       "      <th>sqft_lot</th>\n",
       "      <th>floors</th>\n",
       "      <th>waterfront</th>\n",
       "      <th>view</th>\n",
       "      <th>...</th>\n",
       "      <th>grade</th>\n",
       "      <th>sqft_above</th>\n",
       "      <th>sqft_basement</th>\n",
       "      <th>yr_built</th>\n",
       "      <th>yr_renovated</th>\n",
       "      <th>zipcode</th>\n",
       "      <th>lat</th>\n",
       "      <th>long</th>\n",
       "      <th>sqft_living15</th>\n",
       "      <th>sqft_lot15</th>\n",
       "    </tr>\n",
       "  </thead>\n",
       "  <tbody>\n",
       "    <tr>\n",
       "      <th>7252</th>\n",
       "      <td>6762700020</td>\n",
       "      <td>20141013T000000</td>\n",
       "      <td>7700000.0</td>\n",
       "      <td>6</td>\n",
       "      <td>8.00</td>\n",
       "      <td>12050</td>\n",
       "      <td>27600</td>\n",
       "      <td>2.5</td>\n",
       "      <td>0</td>\n",
       "      <td>3</td>\n",
       "      <td>...</td>\n",
       "      <td>13</td>\n",
       "      <td>8570.0</td>\n",
       "      <td>3480</td>\n",
       "      <td>1910</td>\n",
       "      <td>1987</td>\n",
       "      <td>98102</td>\n",
       "      <td>47.6298</td>\n",
       "      <td>-122.323</td>\n",
       "      <td>3940</td>\n",
       "      <td>8800</td>\n",
       "    </tr>\n",
       "    <tr>\n",
       "      <th>3914</th>\n",
       "      <td>9808700762</td>\n",
       "      <td>20140611T000000</td>\n",
       "      <td>7062500.0</td>\n",
       "      <td>5</td>\n",
       "      <td>4.50</td>\n",
       "      <td>10040</td>\n",
       "      <td>37325</td>\n",
       "      <td>2.0</td>\n",
       "      <td>1</td>\n",
       "      <td>2</td>\n",
       "      <td>...</td>\n",
       "      <td>11</td>\n",
       "      <td>7680.0</td>\n",
       "      <td>2360</td>\n",
       "      <td>1940</td>\n",
       "      <td>2001</td>\n",
       "      <td>98004</td>\n",
       "      <td>47.6500</td>\n",
       "      <td>-122.214</td>\n",
       "      <td>3930</td>\n",
       "      <td>25449</td>\n",
       "    </tr>\n",
       "    <tr>\n",
       "      <th>9254</th>\n",
       "      <td>9208900037</td>\n",
       "      <td>20140919T000000</td>\n",
       "      <td>6885000.0</td>\n",
       "      <td>6</td>\n",
       "      <td>7.75</td>\n",
       "      <td>9890</td>\n",
       "      <td>31374</td>\n",
       "      <td>2.0</td>\n",
       "      <td>0</td>\n",
       "      <td>4</td>\n",
       "      <td>...</td>\n",
       "      <td>13</td>\n",
       "      <td>8860.0</td>\n",
       "      <td>1030</td>\n",
       "      <td>2001</td>\n",
       "      <td>0</td>\n",
       "      <td>98039</td>\n",
       "      <td>47.6305</td>\n",
       "      <td>-122.240</td>\n",
       "      <td>4540</td>\n",
       "      <td>42730</td>\n",
       "    </tr>\n",
       "    <tr>\n",
       "      <th>4411</th>\n",
       "      <td>2470100110</td>\n",
       "      <td>20140804T000000</td>\n",
       "      <td>5570000.0</td>\n",
       "      <td>5</td>\n",
       "      <td>5.75</td>\n",
       "      <td>9200</td>\n",
       "      <td>35069</td>\n",
       "      <td>2.0</td>\n",
       "      <td>0</td>\n",
       "      <td>0</td>\n",
       "      <td>...</td>\n",
       "      <td>13</td>\n",
       "      <td>6200.0</td>\n",
       "      <td>3000</td>\n",
       "      <td>2001</td>\n",
       "      <td>0</td>\n",
       "      <td>98039</td>\n",
       "      <td>47.6289</td>\n",
       "      <td>-122.233</td>\n",
       "      <td>3560</td>\n",
       "      <td>24345</td>\n",
       "    </tr>\n",
       "    <tr>\n",
       "      <th>1448</th>\n",
       "      <td>8907500070</td>\n",
       "      <td>20150413T000000</td>\n",
       "      <td>5350000.0</td>\n",
       "      <td>5</td>\n",
       "      <td>5.00</td>\n",
       "      <td>8000</td>\n",
       "      <td>23985</td>\n",
       "      <td>2.0</td>\n",
       "      <td>0</td>\n",
       "      <td>4</td>\n",
       "      <td>...</td>\n",
       "      <td>12</td>\n",
       "      <td>6720.0</td>\n",
       "      <td>1280</td>\n",
       "      <td>2009</td>\n",
       "      <td>0</td>\n",
       "      <td>98004</td>\n",
       "      <td>47.6232</td>\n",
       "      <td>-122.220</td>\n",
       "      <td>4600</td>\n",
       "      <td>21750</td>\n",
       "    </tr>\n",
       "  </tbody>\n",
       "</table>\n",
       "<p>5 rows × 21 columns</p>\n",
       "</div>"
      ],
      "text/plain": [
       "              id             date      price  bedrooms  bathrooms  \\\n",
       "7252  6762700020  20141013T000000  7700000.0         6       8.00   \n",
       "3914  9808700762  20140611T000000  7062500.0         5       4.50   \n",
       "9254  9208900037  20140919T000000  6885000.0         6       7.75   \n",
       "4411  2470100110  20140804T000000  5570000.0         5       5.75   \n",
       "1448  8907500070  20150413T000000  5350000.0         5       5.00   \n",
       "\n",
       "      sqft_living  sqft_lot  floors  waterfront  view  ...  grade  sqft_above  \\\n",
       "7252        12050     27600     2.5           0     3  ...     13      8570.0   \n",
       "3914        10040     37325     2.0           1     2  ...     11      7680.0   \n",
       "9254         9890     31374     2.0           0     4  ...     13      8860.0   \n",
       "4411         9200     35069     2.0           0     0  ...     13      6200.0   \n",
       "1448         8000     23985     2.0           0     4  ...     12      6720.0   \n",
       "\n",
       "      sqft_basement  yr_built  yr_renovated  zipcode      lat     long  \\\n",
       "7252           3480      1910          1987    98102  47.6298 -122.323   \n",
       "3914           2360      1940          2001    98004  47.6500 -122.214   \n",
       "9254           1030      2001             0    98039  47.6305 -122.240   \n",
       "4411           3000      2001             0    98039  47.6289 -122.233   \n",
       "1448           1280      2009             0    98004  47.6232 -122.220   \n",
       "\n",
       "      sqft_living15  sqft_lot15  \n",
       "7252           3940        8800  \n",
       "3914           3930       25449  \n",
       "9254           4540       42730  \n",
       "4411           3560       24345  \n",
       "1448           4600       21750  \n",
       "\n",
       "[5 rows x 21 columns]"
      ]
     },
     "execution_count": 26,
     "metadata": {},
     "output_type": "execute_result"
    }
   ],
   "source": [
    "df.sort_values(by='price',ascending=False).head()"
   ]
  },
  {
   "cell_type": "code",
   "execution_count": 27,
   "metadata": {},
   "outputs": [
    {
     "data": {
      "text/html": [
       "<div>\n",
       "<style scoped>\n",
       "    .dataframe tbody tr th:only-of-type {\n",
       "        vertical-align: middle;\n",
       "    }\n",
       "\n",
       "    .dataframe tbody tr th {\n",
       "        vertical-align: top;\n",
       "    }\n",
       "\n",
       "    .dataframe thead th {\n",
       "        text-align: right;\n",
       "    }\n",
       "</style>\n",
       "<table border=\"1\" class=\"dataframe\">\n",
       "  <thead>\n",
       "    <tr style=\"text-align: right;\">\n",
       "      <th></th>\n",
       "      <th>id</th>\n",
       "      <th>date</th>\n",
       "      <th>price</th>\n",
       "      <th>bedrooms</th>\n",
       "      <th>bathrooms</th>\n",
       "      <th>sqft_living</th>\n",
       "      <th>sqft_lot</th>\n",
       "      <th>floors</th>\n",
       "      <th>waterfront</th>\n",
       "      <th>view</th>\n",
       "      <th>...</th>\n",
       "      <th>grade</th>\n",
       "      <th>sqft_above</th>\n",
       "      <th>sqft_basement</th>\n",
       "      <th>yr_built</th>\n",
       "      <th>yr_renovated</th>\n",
       "      <th>zipcode</th>\n",
       "      <th>lat</th>\n",
       "      <th>long</th>\n",
       "      <th>sqft_living15</th>\n",
       "      <th>sqft_lot15</th>\n",
       "    </tr>\n",
       "  </thead>\n",
       "  <tbody>\n",
       "    <tr>\n",
       "      <th>7252</th>\n",
       "      <td>6762700020</td>\n",
       "      <td>20141013T000000</td>\n",
       "      <td>7700000.0</td>\n",
       "      <td>6</td>\n",
       "      <td>8.00</td>\n",
       "      <td>12050</td>\n",
       "      <td>27600</td>\n",
       "      <td>2.5</td>\n",
       "      <td>0</td>\n",
       "      <td>3</td>\n",
       "      <td>...</td>\n",
       "      <td>13</td>\n",
       "      <td>8570.0</td>\n",
       "      <td>3480</td>\n",
       "      <td>1910</td>\n",
       "      <td>1987</td>\n",
       "      <td>98102</td>\n",
       "      <td>47.6298</td>\n",
       "      <td>-122.323</td>\n",
       "      <td>3940</td>\n",
       "      <td>8800</td>\n",
       "    </tr>\n",
       "    <tr>\n",
       "      <th>3914</th>\n",
       "      <td>9808700762</td>\n",
       "      <td>20140611T000000</td>\n",
       "      <td>7062500.0</td>\n",
       "      <td>5</td>\n",
       "      <td>4.50</td>\n",
       "      <td>10040</td>\n",
       "      <td>37325</td>\n",
       "      <td>2.0</td>\n",
       "      <td>1</td>\n",
       "      <td>2</td>\n",
       "      <td>...</td>\n",
       "      <td>11</td>\n",
       "      <td>7680.0</td>\n",
       "      <td>2360</td>\n",
       "      <td>1940</td>\n",
       "      <td>2001</td>\n",
       "      <td>98004</td>\n",
       "      <td>47.6500</td>\n",
       "      <td>-122.214</td>\n",
       "      <td>3930</td>\n",
       "      <td>25449</td>\n",
       "    </tr>\n",
       "    <tr>\n",
       "      <th>9254</th>\n",
       "      <td>9208900037</td>\n",
       "      <td>20140919T000000</td>\n",
       "      <td>6885000.0</td>\n",
       "      <td>6</td>\n",
       "      <td>7.75</td>\n",
       "      <td>9890</td>\n",
       "      <td>31374</td>\n",
       "      <td>2.0</td>\n",
       "      <td>0</td>\n",
       "      <td>4</td>\n",
       "      <td>...</td>\n",
       "      <td>13</td>\n",
       "      <td>8860.0</td>\n",
       "      <td>1030</td>\n",
       "      <td>2001</td>\n",
       "      <td>0</td>\n",
       "      <td>98039</td>\n",
       "      <td>47.6305</td>\n",
       "      <td>-122.240</td>\n",
       "      <td>4540</td>\n",
       "      <td>42730</td>\n",
       "    </tr>\n",
       "    <tr>\n",
       "      <th>4411</th>\n",
       "      <td>2470100110</td>\n",
       "      <td>20140804T000000</td>\n",
       "      <td>5570000.0</td>\n",
       "      <td>5</td>\n",
       "      <td>5.75</td>\n",
       "      <td>9200</td>\n",
       "      <td>35069</td>\n",
       "      <td>2.0</td>\n",
       "      <td>0</td>\n",
       "      <td>0</td>\n",
       "      <td>...</td>\n",
       "      <td>13</td>\n",
       "      <td>6200.0</td>\n",
       "      <td>3000</td>\n",
       "      <td>2001</td>\n",
       "      <td>0</td>\n",
       "      <td>98039</td>\n",
       "      <td>47.6289</td>\n",
       "      <td>-122.233</td>\n",
       "      <td>3560</td>\n",
       "      <td>24345</td>\n",
       "    </tr>\n",
       "    <tr>\n",
       "      <th>1448</th>\n",
       "      <td>8907500070</td>\n",
       "      <td>20150413T000000</td>\n",
       "      <td>5350000.0</td>\n",
       "      <td>5</td>\n",
       "      <td>5.00</td>\n",
       "      <td>8000</td>\n",
       "      <td>23985</td>\n",
       "      <td>2.0</td>\n",
       "      <td>0</td>\n",
       "      <td>4</td>\n",
       "      <td>...</td>\n",
       "      <td>12</td>\n",
       "      <td>6720.0</td>\n",
       "      <td>1280</td>\n",
       "      <td>2009</td>\n",
       "      <td>0</td>\n",
       "      <td>98004</td>\n",
       "      <td>47.6232</td>\n",
       "      <td>-122.220</td>\n",
       "      <td>4600</td>\n",
       "      <td>21750</td>\n",
       "    </tr>\n",
       "  </tbody>\n",
       "</table>\n",
       "<p>5 rows × 21 columns</p>\n",
       "</div>"
      ],
      "text/plain": [
       "              id             date      price  bedrooms  bathrooms  \\\n",
       "7252  6762700020  20141013T000000  7700000.0         6       8.00   \n",
       "3914  9808700762  20140611T000000  7062500.0         5       4.50   \n",
       "9254  9208900037  20140919T000000  6885000.0         6       7.75   \n",
       "4411  2470100110  20140804T000000  5570000.0         5       5.75   \n",
       "1448  8907500070  20150413T000000  5350000.0         5       5.00   \n",
       "\n",
       "      sqft_living  sqft_lot  floors  waterfront  view  ...  grade  sqft_above  \\\n",
       "7252        12050     27600     2.5           0     3  ...     13      8570.0   \n",
       "3914        10040     37325     2.0           1     2  ...     11      7680.0   \n",
       "9254         9890     31374     2.0           0     4  ...     13      8860.0   \n",
       "4411         9200     35069     2.0           0     0  ...     13      6200.0   \n",
       "1448         8000     23985     2.0           0     4  ...     12      6720.0   \n",
       "\n",
       "      sqft_basement  yr_built  yr_renovated  zipcode      lat     long  \\\n",
       "7252           3480      1910          1987    98102  47.6298 -122.323   \n",
       "3914           2360      1940          2001    98004  47.6500 -122.214   \n",
       "9254           1030      2001             0    98039  47.6305 -122.240   \n",
       "4411           3000      2001             0    98039  47.6289 -122.233   \n",
       "1448           1280      2009             0    98004  47.6232 -122.220   \n",
       "\n",
       "      sqft_living15  sqft_lot15  \n",
       "7252           3940        8800  \n",
       "3914           3930       25449  \n",
       "9254           4540       42730  \n",
       "4411           3560       24345  \n",
       "1448           4600       21750  \n",
       "\n",
       "[5 rows x 21 columns]"
      ]
     },
     "execution_count": 27,
     "metadata": {},
     "output_type": "execute_result"
    }
   ],
   "source": [
    "df.sort_values(by='price',ascending=False,kind='mergesort').head()"
   ]
  },
  {
   "cell_type": "code",
   "execution_count": 28,
   "metadata": {},
   "outputs": [
    {
     "data": {
      "text/plain": [
       "<AxesSubplot:xlabel='waterfront', ylabel='price'>"
      ]
     },
     "execution_count": 28,
     "metadata": {},
     "output_type": "execute_result"
    },
    {
     "data": {
      "image/png": "[encoded data removed]",
      "text/plain": [
       "<Figure size 432x288 with 1 Axes>"
      ]
     },
     "metadata": {
      "needs_background": "light"
     },
     "output_type": "display_data"
    }
   ],
   "source": [
    "sns.boxplot(x='waterfront',y='price',data=df)"
   ]
  },
  {
   "cell_type": "markdown",
   "metadata": {},
   "source": [
    "# Feature Engineer\n",
    "The feature extraction is done on those data column having more than one feature like date having date and month"
   ]
  },
  {
   "cell_type": "code",
   "execution_count": 29,
   "metadata": {},
   "outputs": [],
   "source": [
    "df=df.drop(axis=1,columns='id')"
   ]
  },
  {
   "cell_type": "code",
   "execution_count": 30,
   "metadata": {},
   "outputs": [
    {
     "data": {
      "text/html": [
       "<div>\n",
       "<style scoped>\n",
       "    .dataframe tbody tr th:only-of-type {\n",
       "        vertical-align: middle;\n",
       "    }\n",
       "\n",
       "    .dataframe tbody tr th {\n",
       "        vertical-align: top;\n",
       "    }\n",
       "\n",
       "    .dataframe thead th {\n",
       "        text-align: right;\n",
       "    }\n",
       "</style>\n",
       "<table border=\"1\" class=\"dataframe\">\n",
       "  <thead>\n",
       "    <tr style=\"text-align: right;\">\n",
       "      <th></th>\n",
       "      <th>date</th>\n",
       "      <th>price</th>\n",
       "      <th>bedrooms</th>\n",
       "      <th>bathrooms</th>\n",
       "      <th>sqft_living</th>\n",
       "      <th>sqft_lot</th>\n",
       "      <th>floors</th>\n",
       "      <th>waterfront</th>\n",
       "      <th>view</th>\n",
       "      <th>condition</th>\n",
       "      <th>grade</th>\n",
       "      <th>sqft_above</th>\n",
       "      <th>sqft_basement</th>\n",
       "      <th>yr_built</th>\n",
       "      <th>yr_renovated</th>\n",
       "      <th>zipcode</th>\n",
       "      <th>lat</th>\n",
       "      <th>long</th>\n",
       "      <th>sqft_living15</th>\n",
       "      <th>sqft_lot15</th>\n",
       "    </tr>\n",
       "  </thead>\n",
       "  <tbody>\n",
       "    <tr>\n",
       "      <th>0</th>\n",
       "      <td>20141013T000000</td>\n",
       "      <td>221900.0</td>\n",
       "      <td>3</td>\n",
       "      <td>1.00</td>\n",
       "      <td>1180</td>\n",
       "      <td>5650</td>\n",
       "      <td>1.0</td>\n",
       "      <td>0</td>\n",
       "      <td>0</td>\n",
       "      <td>3</td>\n",
       "      <td>7</td>\n",
       "      <td>1180.0</td>\n",
       "      <td>0</td>\n",
       "      <td>1955</td>\n",
       "      <td>0</td>\n",
       "      <td>98178</td>\n",
       "      <td>47.5112</td>\n",
       "      <td>-122.257</td>\n",
       "      <td>1340</td>\n",
       "      <td>5650</td>\n",
       "    </tr>\n",
       "    <tr>\n",
       "      <th>1</th>\n",
       "      <td>20141209T000000</td>\n",
       "      <td>538000.0</td>\n",
       "      <td>3</td>\n",
       "      <td>2.25</td>\n",
       "      <td>2570</td>\n",
       "      <td>7242</td>\n",
       "      <td>2.0</td>\n",
       "      <td>0</td>\n",
       "      <td>0</td>\n",
       "      <td>3</td>\n",
       "      <td>7</td>\n",
       "      <td>2170.0</td>\n",
       "      <td>400</td>\n",
       "      <td>1951</td>\n",
       "      <td>1991</td>\n",
       "      <td>98125</td>\n",
       "      <td>47.7210</td>\n",
       "      <td>-122.319</td>\n",
       "      <td>1690</td>\n",
       "      <td>7639</td>\n",
       "    </tr>\n",
       "    <tr>\n",
       "      <th>2</th>\n",
       "      <td>20150225T000000</td>\n",
       "      <td>180000.0</td>\n",
       "      <td>2</td>\n",
       "      <td>1.00</td>\n",
       "      <td>770</td>\n",
       "      <td>10000</td>\n",
       "      <td>1.0</td>\n",
       "      <td>0</td>\n",
       "      <td>0</td>\n",
       "      <td>3</td>\n",
       "      <td>6</td>\n",
       "      <td>770.0</td>\n",
       "      <td>0</td>\n",
       "      <td>1933</td>\n",
       "      <td>0</td>\n",
       "      <td>98028</td>\n",
       "      <td>47.7379</td>\n",
       "      <td>-122.233</td>\n",
       "      <td>2720</td>\n",
       "      <td>8062</td>\n",
       "    </tr>\n",
       "    <tr>\n",
       "      <th>3</th>\n",
       "      <td>20141209T000000</td>\n",
       "      <td>604000.0</td>\n",
       "      <td>4</td>\n",
       "      <td>3.00</td>\n",
       "      <td>1960</td>\n",
       "      <td>5000</td>\n",
       "      <td>1.0</td>\n",
       "      <td>0</td>\n",
       "      <td>0</td>\n",
       "      <td>5</td>\n",
       "      <td>7</td>\n",
       "      <td>1050.0</td>\n",
       "      <td>910</td>\n",
       "      <td>1965</td>\n",
       "      <td>0</td>\n",
       "      <td>98136</td>\n",
       "      <td>47.5208</td>\n",
       "      <td>-122.393</td>\n",
       "      <td>1360</td>\n",
       "      <td>5000</td>\n",
       "    </tr>\n",
       "    <tr>\n",
       "      <th>4</th>\n",
       "      <td>20150218T000000</td>\n",
       "      <td>510000.0</td>\n",
       "      <td>3</td>\n",
       "      <td>2.00</td>\n",
       "      <td>1680</td>\n",
       "      <td>8080</td>\n",
       "      <td>1.0</td>\n",
       "      <td>0</td>\n",
       "      <td>0</td>\n",
       "      <td>3</td>\n",
       "      <td>8</td>\n",
       "      <td>1680.0</td>\n",
       "      <td>0</td>\n",
       "      <td>1987</td>\n",
       "      <td>0</td>\n",
       "      <td>98074</td>\n",
       "      <td>47.6168</td>\n",
       "      <td>-122.045</td>\n",
       "      <td>1800</td>\n",
       "      <td>7503</td>\n",
       "    </tr>\n",
       "  </tbody>\n",
       "</table>\n",
       "</div>"
      ],
      "text/plain": [
       "              date     price  bedrooms  bathrooms  sqft_living  sqft_lot  \\\n",
       "0  20141013T000000  221900.0         3       1.00         1180      5650   \n",
       "1  20141209T000000  538000.0         3       2.25         2570      7242   \n",
       "2  20150225T000000  180000.0         2       1.00          770     10000   \n",
       "3  20141209T000000  604000.0         4       3.00         1960      5000   \n",
       "4  20150218T000000  510000.0         3       2.00         1680      8080   \n",
       "\n",
       "   floors  waterfront  view  condition  grade  sqft_above  sqft_basement  \\\n",
       "0     1.0           0     0          3      7      1180.0              0   \n",
       "1     2.0           0     0          3      7      2170.0            400   \n",
       "2     1.0           0     0          3      6       770.0              0   \n",
       "3     1.0           0     0          5      7      1050.0            910   \n",
       "4     1.0           0     0          3      8      1680.0              0   \n",
       "\n",
       "   yr_built  yr_renovated  zipcode      lat     long  sqft_living15  \\\n",
       "0      1955             0    98178  47.5112 -122.257           1340   \n",
       "1      1951          1991    98125  47.7210 -122.319           1690   \n",
       "2      1933             0    98028  47.7379 -122.233           2720   \n",
       "3      1965             0    98136  47.5208 -122.393           1360   \n",
       "4      1987             0    98074  47.6168 -122.045           1800   \n",
       "\n",
       "   sqft_lot15  \n",
       "0        5650  \n",
       "1        7639  \n",
       "2        8062  \n",
       "3        5000  \n",
       "4        7503  "
      ]
     },
     "execution_count": 30,
     "metadata": {},
     "output_type": "execute_result"
    }
   ],
   "source": [
    "df.head()"
   ]
  },
  {
   "cell_type": "code",
   "execution_count": 31,
   "metadata": {},
   "outputs": [],
   "source": [
    "df['date']=pd.to_datetime(df['date'])"
   ]
  },
  {
   "cell_type": "code",
   "execution_count": 32,
   "metadata": {},
   "outputs": [
    {
     "data": {
      "text/plain": [
       "0       2014-10-13\n",
       "1       2014-12-09\n",
       "2       2015-02-25\n",
       "3       2014-12-09\n",
       "4       2015-02-18\n",
       "           ...    \n",
       "21608   2014-05-21\n",
       "21609   2015-02-23\n",
       "21610   2014-06-23\n",
       "21611   2015-01-16\n",
       "21612   2014-10-15\n",
       "Name: date, Length: 21613, dtype: datetime64[ns]"
      ]
     },
     "execution_count": 32,
     "metadata": {},
     "output_type": "execute_result"
    }
   ],
   "source": [
    "df['date']"
   ]
  },
  {
   "cell_type": "code",
   "execution_count": 33,
   "metadata": {},
   "outputs": [],
   "source": [
    "df['year']=df['date'].apply(lambda date:date.year)"
   ]
  },
  {
   "cell_type": "code",
   "execution_count": 34,
   "metadata": {},
   "outputs": [],
   "source": [
    "df['month']=df['date'].apply(lambda date:date.month)"
   ]
  },
  {
   "cell_type": "code",
   "execution_count": 35,
   "metadata": {},
   "outputs": [
    {
     "data": {
      "text/html": [
       "<div>\n",
       "<style scoped>\n",
       "    .dataframe tbody tr th:only-of-type {\n",
       "        vertical-align: middle;\n",
       "    }\n",
       "\n",
       "    .dataframe tbody tr th {\n",
       "        vertical-align: top;\n",
       "    }\n",
       "\n",
       "    .dataframe thead th {\n",
       "        text-align: right;\n",
       "    }\n",
       "</style>\n",
       "<table border=\"1\" class=\"dataframe\">\n",
       "  <thead>\n",
       "    <tr style=\"text-align: right;\">\n",
       "      <th></th>\n",
       "      <th>date</th>\n",
       "      <th>price</th>\n",
       "      <th>bedrooms</th>\n",
       "      <th>bathrooms</th>\n",
       "      <th>sqft_living</th>\n",
       "      <th>sqft_lot</th>\n",
       "      <th>floors</th>\n",
       "      <th>waterfront</th>\n",
       "      <th>view</th>\n",
       "      <th>condition</th>\n",
       "      <th>...</th>\n",
       "      <th>sqft_basement</th>\n",
       "      <th>yr_built</th>\n",
       "      <th>yr_renovated</th>\n",
       "      <th>zipcode</th>\n",
       "      <th>lat</th>\n",
       "      <th>long</th>\n",
       "      <th>sqft_living15</th>\n",
       "      <th>sqft_lot15</th>\n",
       "      <th>year</th>\n",
       "      <th>month</th>\n",
       "    </tr>\n",
       "  </thead>\n",
       "  <tbody>\n",
       "    <tr>\n",
       "      <th>0</th>\n",
       "      <td>2014-10-13</td>\n",
       "      <td>221900.0</td>\n",
       "      <td>3</td>\n",
       "      <td>1.00</td>\n",
       "      <td>1180</td>\n",
       "      <td>5650</td>\n",
       "      <td>1.0</td>\n",
       "      <td>0</td>\n",
       "      <td>0</td>\n",
       "      <td>3</td>\n",
       "      <td>...</td>\n",
       "      <td>0</td>\n",
       "      <td>1955</td>\n",
       "      <td>0</td>\n",
       "      <td>98178</td>\n",
       "      <td>47.5112</td>\n",
       "      <td>-122.257</td>\n",
       "      <td>1340</td>\n",
       "      <td>5650</td>\n",
       "      <td>2014</td>\n",
       "      <td>10</td>\n",
       "    </tr>\n",
       "    <tr>\n",
       "      <th>1</th>\n",
       "      <td>2014-12-09</td>\n",
       "      <td>538000.0</td>\n",
       "      <td>3</td>\n",
       "      <td>2.25</td>\n",
       "      <td>2570</td>\n",
       "      <td>7242</td>\n",
       "      <td>2.0</td>\n",
       "      <td>0</td>\n",
       "      <td>0</td>\n",
       "      <td>3</td>\n",
       "      <td>...</td>\n",
       "      <td>400</td>\n",
       "      <td>1951</td>\n",
       "      <td>1991</td>\n",
       "      <td>98125</td>\n",
       "      <td>47.7210</td>\n",
       "      <td>-122.319</td>\n",
       "      <td>1690</td>\n",
       "      <td>7639</td>\n",
       "      <td>2014</td>\n",
       "      <td>12</td>\n",
       "    </tr>\n",
       "    <tr>\n",
       "      <th>2</th>\n",
       "      <td>2015-02-25</td>\n",
       "      <td>180000.0</td>\n",
       "      <td>2</td>\n",
       "      <td>1.00</td>\n",
       "      <td>770</td>\n",
       "      <td>10000</td>\n",
       "      <td>1.0</td>\n",
       "      <td>0</td>\n",
       "      <td>0</td>\n",
       "      <td>3</td>\n",
       "      <td>...</td>\n",
       "      <td>0</td>\n",
       "      <td>1933</td>\n",
       "      <td>0</td>\n",
       "      <td>98028</td>\n",
       "      <td>47.7379</td>\n",
       "      <td>-122.233</td>\n",
       "      <td>2720</td>\n",
       "      <td>8062</td>\n",
       "      <td>2015</td>\n",
       "      <td>2</td>\n",
       "    </tr>\n",
       "    <tr>\n",
       "      <th>3</th>\n",
       "      <td>2014-12-09</td>\n",
       "      <td>604000.0</td>\n",
       "      <td>4</td>\n",
       "      <td>3.00</td>\n",
       "      <td>1960</td>\n",
       "      <td>5000</td>\n",
       "      <td>1.0</td>\n",
       "      <td>0</td>\n",
       "      <td>0</td>\n",
       "      <td>5</td>\n",
       "      <td>...</td>\n",
       "      <td>910</td>\n",
       "      <td>1965</td>\n",
       "      <td>0</td>\n",
       "      <td>98136</td>\n",
       "      <td>47.5208</td>\n",
       "      <td>-122.393</td>\n",
       "      <td>1360</td>\n",
       "      <td>5000</td>\n",
       "      <td>2014</td>\n",
       "      <td>12</td>\n",
       "    </tr>\n",
       "    <tr>\n",
       "      <th>4</th>\n",
       "      <td>2015-02-18</td>\n",
       "      <td>510000.0</td>\n",
       "      <td>3</td>\n",
       "      <td>2.00</td>\n",
       "      <td>1680</td>\n",
       "      <td>8080</td>\n",
       "      <td>1.0</td>\n",
       "      <td>0</td>\n",
       "      <td>0</td>\n",
       "      <td>3</td>\n",
       "      <td>...</td>\n",
       "      <td>0</td>\n",
       "      <td>1987</td>\n",
       "      <td>0</td>\n",
       "      <td>98074</td>\n",
       "      <td>47.6168</td>\n",
       "      <td>-122.045</td>\n",
       "      <td>1800</td>\n",
       "      <td>7503</td>\n",
       "      <td>2015</td>\n",
       "      <td>2</td>\n",
       "    </tr>\n",
       "  </tbody>\n",
       "</table>\n",
       "<p>5 rows × 22 columns</p>\n",
       "</div>"
      ],
      "text/plain": [
       "        date     price  bedrooms  bathrooms  sqft_living  sqft_lot  floors  \\\n",
       "0 2014-10-13  221900.0         3       1.00         1180      5650     1.0   \n",
       "1 2014-12-09  538000.0         3       2.25         2570      7242     2.0   \n",
       "2 2015-02-25  180000.0         2       1.00          770     10000     1.0   \n",
       "3 2014-12-09  604000.0         4       3.00         1960      5000     1.0   \n",
       "4 2015-02-18  510000.0         3       2.00         1680      8080     1.0   \n",
       "\n",
       "   waterfront  view  condition  ...  sqft_basement  yr_built  yr_renovated  \\\n",
       "0           0     0          3  ...              0      1955             0   \n",
       "1           0     0          3  ...            400      1951          1991   \n",
       "2           0     0          3  ...              0      1933             0   \n",
       "3           0     0          5  ...            910      1965             0   \n",
       "4           0     0          3  ...              0      1987             0   \n",
       "\n",
       "   zipcode      lat     long  sqft_living15  sqft_lot15  year  month  \n",
       "0    98178  47.5112 -122.257           1340        5650  2014     10  \n",
       "1    98125  47.7210 -122.319           1690        7639  2014     12  \n",
       "2    98028  47.7379 -122.233           2720        8062  2015      2  \n",
       "3    98136  47.5208 -122.393           1360        5000  2014     12  \n",
       "4    98074  47.6168 -122.045           1800        7503  2015      2  \n",
       "\n",
       "[5 rows x 22 columns]"
      ]
     },
     "execution_count": 35,
     "metadata": {},
     "output_type": "execute_result"
    }
   ],
   "source": [
    "df.head()"
   ]
  },
  {
   "cell_type": "code",
   "execution_count": 36,
   "metadata": {},
   "outputs": [
    {
     "data": {
      "text/plain": [
       "<AxesSubplot:xlabel='month', ylabel='price'>"
      ]
     },
     "execution_count": 36,
     "metadata": {},
     "output_type": "execute_result"
    },
    {
     "data": {
      "image/png": "[encoded data removed]",
      "text/plain": [
       "<Figure size 432x288 with 1 Axes>"
      ]
     },
     "metadata": {
      "needs_background": "light"
     },
     "output_type": "display_data"
    }
   ],
   "source": [
    "sns.lineplot(x='month',y='price',data=df)"
   ]
  },
  {
   "cell_type": "code",
   "execution_count": 37,
   "metadata": {},
   "outputs": [
    {
     "data": {
      "text/plain": [
       "<AxesSubplot:xlabel='month', ylabel='price'>"
      ]
     },
     "execution_count": 37,
     "metadata": {},
     "output_type": "execute_result"
    },
    {
     "data": {
      "image/png": "[encoded data removed]",
      "text/plain": [
       "<Figure size 432x288 with 1 Axes>"
      ]
     },
     "metadata": {
      "needs_background": "light"
     },
     "output_type": "display_data"
    }
   ],
   "source": [
    "sns.boxplot(x='month',y='price',data=df)"
   ]
  },
  {
   "cell_type": "code",
   "execution_count": 38,
   "metadata": {},
   "outputs": [
    {
     "data": {
      "text/plain": [
       "<AxesSubplot:xlabel='month'>"
      ]
     },
     "execution_count": 38,
     "metadata": {},
     "output_type": "execute_result"
    },
    {
     "data": {
      "image/png": "[encoded data removed]",
      "text/plain": [
       "<Figure size 432x288 with 1 Axes>"
      ]
     },
     "metadata": {
      "needs_background": "light"
     },
     "output_type": "display_data"
    }
   ],
   "source": [
    "df.groupby(by='month').mean()['price'].plot()"
   ]
  },
  {
   "cell_type": "code",
   "execution_count": 39,
   "metadata": {},
   "outputs": [
    {
     "data": {
      "text/plain": [
       "<AxesSubplot:xlabel='month'>"
      ]
     },
     "execution_count": 39,
     "metadata": {},
     "output_type": "execute_result"
    },
    {
     "data": {
      "image/png": "[encoded data removed]",
      "text/plain": [
       "<Figure size 432x288 with 1 Axes>"
      ]
     },
     "metadata": {
      "needs_background": "light"
     },
     "output_type": "display_data"
    }
   ],
   "source": [
    "df.groupby(by='month').mean()['price'].plot()"
   ]
  },
  {
   "cell_type": "code",
   "execution_count": 40,
   "metadata": {},
   "outputs": [
    {
     "data": {
      "text/plain": [
       "<AxesSubplot:xlabel='month,year'>"
      ]
     },
     "execution_count": 40,
     "metadata": {},
     "output_type": "execute_result"
    },
    {
     "data": {
      "image/png": "[encoded data removed]",
      "text/plain": [
       "<Figure size 432x288 with 1 Axes>"
      ]
     },
     "metadata": {
      "needs_background": "light"
     },
     "output_type": "display_data"
    }
   ],
   "source": [
    "df.groupby(by=['month','year']).mean()['price'].plot()"
   ]
  },
  {
   "cell_type": "code",
   "execution_count": 41,
   "metadata": {},
   "outputs": [],
   "source": [
    "df=df.drop(axis=1,columns='date')"
   ]
  },
  {
   "cell_type": "code",
   "execution_count": 42,
   "metadata": {},
   "outputs": [
    {
     "data": {
      "text/html": [
       "<div>\n",
       "<style scoped>\n",
       "    .dataframe tbody tr th:only-of-type {\n",
       "        vertical-align: middle;\n",
       "    }\n",
       "\n",
       "    .dataframe tbody tr th {\n",
       "        vertical-align: top;\n",
       "    }\n",
       "\n",
       "    .dataframe thead th {\n",
       "        text-align: right;\n",
       "    }\n",
       "</style>\n",
       "<table border=\"1\" class=\"dataframe\">\n",
       "  <thead>\n",
       "    <tr style=\"text-align: right;\">\n",
       "      <th></th>\n",
       "      <th>price</th>\n",
       "      <th>bedrooms</th>\n",
       "      <th>bathrooms</th>\n",
       "      <th>sqft_living</th>\n",
       "      <th>sqft_lot</th>\n",
       "      <th>floors</th>\n",
       "      <th>waterfront</th>\n",
       "      <th>view</th>\n",
       "      <th>condition</th>\n",
       "      <th>grade</th>\n",
       "      <th>...</th>\n",
       "      <th>sqft_basement</th>\n",
       "      <th>yr_built</th>\n",
       "      <th>yr_renovated</th>\n",
       "      <th>zipcode</th>\n",
       "      <th>lat</th>\n",
       "      <th>long</th>\n",
       "      <th>sqft_living15</th>\n",
       "      <th>sqft_lot15</th>\n",
       "      <th>year</th>\n",
       "      <th>month</th>\n",
       "    </tr>\n",
       "  </thead>\n",
       "  <tbody>\n",
       "    <tr>\n",
       "      <th>0</th>\n",
       "      <td>221900.0</td>\n",
       "      <td>3</td>\n",
       "      <td>1.00</td>\n",
       "      <td>1180</td>\n",
       "      <td>5650</td>\n",
       "      <td>1.0</td>\n",
       "      <td>0</td>\n",
       "      <td>0</td>\n",
       "      <td>3</td>\n",
       "      <td>7</td>\n",
       "      <td>...</td>\n",
       "      <td>0</td>\n",
       "      <td>1955</td>\n",
       "      <td>0</td>\n",
       "      <td>98178</td>\n",
       "      <td>47.5112</td>\n",
       "      <td>-122.257</td>\n",
       "      <td>1340</td>\n",
       "      <td>5650</td>\n",
       "      <td>2014</td>\n",
       "      <td>10</td>\n",
       "    </tr>\n",
       "    <tr>\n",
       "      <th>1</th>\n",
       "      <td>538000.0</td>\n",
       "      <td>3</td>\n",
       "      <td>2.25</td>\n",
       "      <td>2570</td>\n",
       "      <td>7242</td>\n",
       "      <td>2.0</td>\n",
       "      <td>0</td>\n",
       "      <td>0</td>\n",
       "      <td>3</td>\n",
       "      <td>7</td>\n",
       "      <td>...</td>\n",
       "      <td>400</td>\n",
       "      <td>1951</td>\n",
       "      <td>1991</td>\n",
       "      <td>98125</td>\n",
       "      <td>47.7210</td>\n",
       "      <td>-122.319</td>\n",
       "      <td>1690</td>\n",
       "      <td>7639</td>\n",
       "      <td>2014</td>\n",
       "      <td>12</td>\n",
       "    </tr>\n",
       "    <tr>\n",
       "      <th>2</th>\n",
       "      <td>180000.0</td>\n",
       "      <td>2</td>\n",
       "      <td>1.00</td>\n",
       "      <td>770</td>\n",
       "      <td>10000</td>\n",
       "      <td>1.0</td>\n",
       "      <td>0</td>\n",
       "      <td>0</td>\n",
       "      <td>3</td>\n",
       "      <td>6</td>\n",
       "      <td>...</td>\n",
       "      <td>0</td>\n",
       "      <td>1933</td>\n",
       "      <td>0</td>\n",
       "      <td>98028</td>\n",
       "      <td>47.7379</td>\n",
       "      <td>-122.233</td>\n",
       "      <td>2720</td>\n",
       "      <td>8062</td>\n",
       "      <td>2015</td>\n",
       "      <td>2</td>\n",
       "    </tr>\n",
       "    <tr>\n",
       "      <th>3</th>\n",
       "      <td>604000.0</td>\n",
       "      <td>4</td>\n",
       "      <td>3.00</td>\n",
       "      <td>1960</td>\n",
       "      <td>5000</td>\n",
       "      <td>1.0</td>\n",
       "      <td>0</td>\n",
       "      <td>0</td>\n",
       "      <td>5</td>\n",
       "      <td>7</td>\n",
       "      <td>...</td>\n",
       "      <td>910</td>\n",
       "      <td>1965</td>\n",
       "      <td>0</td>\n",
       "      <td>98136</td>\n",
       "      <td>47.5208</td>\n",
       "      <td>-122.393</td>\n",
       "      <td>1360</td>\n",
       "      <td>5000</td>\n",
       "      <td>2014</td>\n",
       "      <td>12</td>\n",
       "    </tr>\n",
       "    <tr>\n",
       "      <th>4</th>\n",
       "      <td>510000.0</td>\n",
       "      <td>3</td>\n",
       "      <td>2.00</td>\n",
       "      <td>1680</td>\n",
       "      <td>8080</td>\n",
       "      <td>1.0</td>\n",
       "      <td>0</td>\n",
       "      <td>0</td>\n",
       "      <td>3</td>\n",
       "      <td>8</td>\n",
       "      <td>...</td>\n",
       "      <td>0</td>\n",
       "      <td>1987</td>\n",
       "      <td>0</td>\n",
       "      <td>98074</td>\n",
       "      <td>47.6168</td>\n",
       "      <td>-122.045</td>\n",
       "      <td>1800</td>\n",
       "      <td>7503</td>\n",
       "      <td>2015</td>\n",
       "      <td>2</td>\n",
       "    </tr>\n",
       "  </tbody>\n",
       "</table>\n",
       "<p>5 rows × 21 columns</p>\n",
       "</div>"
      ],
      "text/plain": [
       "      price  bedrooms  bathrooms  sqft_living  sqft_lot  floors  waterfront  \\\n",
       "0  221900.0         3       1.00         1180      5650     1.0           0   \n",
       "1  538000.0         3       2.25         2570      7242     2.0           0   \n",
       "2  180000.0         2       1.00          770     10000     1.0           0   \n",
       "3  604000.0         4       3.00         1960      5000     1.0           0   \n",
       "4  510000.0         3       2.00         1680      8080     1.0           0   \n",
       "\n",
       "   view  condition  grade  ...  sqft_basement  yr_built  yr_renovated  \\\n",
       "0     0          3      7  ...              0      1955             0   \n",
       "1     0          3      7  ...            400      1951          1991   \n",
       "2     0          3      6  ...              0      1933             0   \n",
       "3     0          5      7  ...            910      1965             0   \n",
       "4     0          3      8  ...              0      1987             0   \n",
       "\n",
       "   zipcode      lat     long  sqft_living15  sqft_lot15  year  month  \n",
       "0    98178  47.5112 -122.257           1340        5650  2014     10  \n",
       "1    98125  47.7210 -122.319           1690        7639  2014     12  \n",
       "2    98028  47.7379 -122.233           2720        8062  2015      2  \n",
       "3    98136  47.5208 -122.393           1360        5000  2014     12  \n",
       "4    98074  47.6168 -122.045           1800        7503  2015      2  \n",
       "\n",
       "[5 rows x 21 columns]"
      ]
     },
     "execution_count": 42,
     "metadata": {},
     "output_type": "execute_result"
    }
   ],
   "source": [
    "df.head()"
   ]
  },
  {
   "cell_type": "code",
   "execution_count": 43,
   "metadata": {},
   "outputs": [],
   "source": [
    "df=df.drop(columns='zipcode',axis=1)"
   ]
  },
  {
   "cell_type": "code",
   "execution_count": 44,
   "metadata": {
    "scrolled": true
   },
   "outputs": [
    {
     "data": {
      "text/html": [
       "<div>\n",
       "<style scoped>\n",
       "    .dataframe tbody tr th:only-of-type {\n",
       "        vertical-align: middle;\n",
       "    }\n",
       "\n",
       "    .dataframe tbody tr th {\n",
       "        vertical-align: top;\n",
       "    }\n",
       "\n",
       "    .dataframe thead th {\n",
       "        text-align: right;\n",
       "    }\n",
       "</style>\n",
       "<table border=\"1\" class=\"dataframe\">\n",
       "  <thead>\n",
       "    <tr style=\"text-align: right;\">\n",
       "      <th></th>\n",
       "      <th>price</th>\n",
       "      <th>bedrooms</th>\n",
       "      <th>bathrooms</th>\n",
       "      <th>sqft_living</th>\n",
       "      <th>sqft_lot</th>\n",
       "      <th>floors</th>\n",
       "      <th>waterfront</th>\n",
       "      <th>view</th>\n",
       "      <th>condition</th>\n",
       "      <th>grade</th>\n",
       "      <th>sqft_above</th>\n",
       "      <th>sqft_basement</th>\n",
       "      <th>yr_built</th>\n",
       "      <th>yr_renovated</th>\n",
       "      <th>lat</th>\n",
       "      <th>long</th>\n",
       "      <th>sqft_living15</th>\n",
       "      <th>sqft_lot15</th>\n",
       "      <th>year</th>\n",
       "      <th>month</th>\n",
       "    </tr>\n",
       "  </thead>\n",
       "  <tbody>\n",
       "    <tr>\n",
       "      <th>0</th>\n",
       "      <td>221900.0</td>\n",
       "      <td>3</td>\n",
       "      <td>1.00</td>\n",
       "      <td>1180</td>\n",
       "      <td>5650</td>\n",
       "      <td>1.0</td>\n",
       "      <td>0</td>\n",
       "      <td>0</td>\n",
       "      <td>3</td>\n",
       "      <td>7</td>\n",
       "      <td>1180.0</td>\n",
       "      <td>0</td>\n",
       "      <td>1955</td>\n",
       "      <td>0</td>\n",
       "      <td>47.5112</td>\n",
       "      <td>-122.257</td>\n",
       "      <td>1340</td>\n",
       "      <td>5650</td>\n",
       "      <td>2014</td>\n",
       "      <td>10</td>\n",
       "    </tr>\n",
       "    <tr>\n",
       "      <th>1</th>\n",
       "      <td>538000.0</td>\n",
       "      <td>3</td>\n",
       "      <td>2.25</td>\n",
       "      <td>2570</td>\n",
       "      <td>7242</td>\n",
       "      <td>2.0</td>\n",
       "      <td>0</td>\n",
       "      <td>0</td>\n",
       "      <td>3</td>\n",
       "      <td>7</td>\n",
       "      <td>2170.0</td>\n",
       "      <td>400</td>\n",
       "      <td>1951</td>\n",
       "      <td>1991</td>\n",
       "      <td>47.7210</td>\n",
       "      <td>-122.319</td>\n",
       "      <td>1690</td>\n",
       "      <td>7639</td>\n",
       "      <td>2014</td>\n",
       "      <td>12</td>\n",
       "    </tr>\n",
       "    <tr>\n",
       "      <th>2</th>\n",
       "      <td>180000.0</td>\n",
       "      <td>2</td>\n",
       "      <td>1.00</td>\n",
       "      <td>770</td>\n",
       "      <td>10000</td>\n",
       "      <td>1.0</td>\n",
       "      <td>0</td>\n",
       "      <td>0</td>\n",
       "      <td>3</td>\n",
       "      <td>6</td>\n",
       "      <td>770.0</td>\n",
       "      <td>0</td>\n",
       "      <td>1933</td>\n",
       "      <td>0</td>\n",
       "      <td>47.7379</td>\n",
       "      <td>-122.233</td>\n",
       "      <td>2720</td>\n",
       "      <td>8062</td>\n",
       "      <td>2015</td>\n",
       "      <td>2</td>\n",
       "    </tr>\n",
       "    <tr>\n",
       "      <th>3</th>\n",
       "      <td>604000.0</td>\n",
       "      <td>4</td>\n",
       "      <td>3.00</td>\n",
       "      <td>1960</td>\n",
       "      <td>5000</td>\n",
       "      <td>1.0</td>\n",
       "      <td>0</td>\n",
       "      <td>0</td>\n",
       "      <td>5</td>\n",
       "      <td>7</td>\n",
       "      <td>1050.0</td>\n",
       "      <td>910</td>\n",
       "      <td>1965</td>\n",
       "      <td>0</td>\n",
       "      <td>47.5208</td>\n",
       "      <td>-122.393</td>\n",
       "      <td>1360</td>\n",
       "      <td>5000</td>\n",
       "      <td>2014</td>\n",
       "      <td>12</td>\n",
       "    </tr>\n",
       "    <tr>\n",
       "      <th>4</th>\n",
       "      <td>510000.0</td>\n",
       "      <td>3</td>\n",
       "      <td>2.00</td>\n",
       "      <td>1680</td>\n",
       "      <td>8080</td>\n",
       "      <td>1.0</td>\n",
       "      <td>0</td>\n",
       "      <td>0</td>\n",
       "      <td>3</td>\n",
       "      <td>8</td>\n",
       "      <td>1680.0</td>\n",
       "      <td>0</td>\n",
       "      <td>1987</td>\n",
       "      <td>0</td>\n",
       "      <td>47.6168</td>\n",
       "      <td>-122.045</td>\n",
       "      <td>1800</td>\n",
       "      <td>7503</td>\n",
       "      <td>2015</td>\n",
       "      <td>2</td>\n",
       "    </tr>\n",
       "  </tbody>\n",
       "</table>\n",
       "</div>"
      ],
      "text/plain": [
       "      price  bedrooms  bathrooms  sqft_living  sqft_lot  floors  waterfront  \\\n",
       "0  221900.0         3       1.00         1180      5650     1.0           0   \n",
       "1  538000.0         3       2.25         2570      7242     2.0           0   \n",
       "2  180000.0         2       1.00          770     10000     1.0           0   \n",
       "3  604000.0         4       3.00         1960      5000     1.0           0   \n",
       "4  510000.0         3       2.00         1680      8080     1.0           0   \n",
       "\n",
       "   view  condition  grade  sqft_above  sqft_basement  yr_built  yr_renovated  \\\n",
       "0     0          3      7      1180.0              0      1955             0   \n",
       "1     0          3      7      2170.0            400      1951          1991   \n",
       "2     0          3      6       770.0              0      1933             0   \n",
       "3     0          5      7      1050.0            910      1965             0   \n",
       "4     0          3      8      1680.0              0      1987             0   \n",
       "\n",
       "       lat     long  sqft_living15  sqft_lot15  year  month  \n",
       "0  47.5112 -122.257           1340        5650  2014     10  \n",
       "1  47.7210 -122.319           1690        7639  2014     12  \n",
       "2  47.7379 -122.233           2720        8062  2015      2  \n",
       "3  47.5208 -122.393           1360        5000  2014     12  \n",
       "4  47.6168 -122.045           1800        7503  2015      2  "
      ]
     },
     "execution_count": 44,
     "metadata": {},
     "output_type": "execute_result"
    }
   ],
   "source": [
    "df.head()"
   ]
  },
  {
   "cell_type": "code",
   "execution_count": 45,
   "metadata": {},
   "outputs": [
    {
     "data": {
      "text/plain": [
       "Index(['price', 'bedrooms', 'bathrooms', 'sqft_living', 'sqft_lot', 'floors',\n",
       "       'waterfront', 'view', 'condition', 'grade', 'sqft_above',\n",
       "       'sqft_basement', 'yr_built', 'yr_renovated', 'lat', 'long',\n",
       "       'sqft_living15', 'sqft_lot15', 'year', 'month'],\n",
       "      dtype='object')"
      ]
     },
     "execution_count": 45,
     "metadata": {},
     "output_type": "execute_result"
    }
   ],
   "source": [
    "df.columns"
   ]
  },
  {
   "cell_type": "code",
   "execution_count": 46,
   "metadata": {},
   "outputs": [],
   "source": [
    "a=df.drop(columns='price',axis=1)"
   ]
  },
  {
   "cell_type": "code",
   "execution_count": 47,
   "metadata": {},
   "outputs": [
    {
     "data": {
      "text/html": [
       "<div>\n",
       "<style scoped>\n",
       "    .dataframe tbody tr th:only-of-type {\n",
       "        vertical-align: middle;\n",
       "    }\n",
       "\n",
       "    .dataframe tbody tr th {\n",
       "        vertical-align: top;\n",
       "    }\n",
       "\n",
       "    .dataframe thead th {\n",
       "        text-align: right;\n",
       "    }\n",
       "</style>\n",
       "<table border=\"1\" class=\"dataframe\">\n",
       "  <thead>\n",
       "    <tr style=\"text-align: right;\">\n",
       "      <th></th>\n",
       "      <th>bedrooms</th>\n",
       "      <th>bathrooms</th>\n",
       "      <th>sqft_living</th>\n",
       "      <th>sqft_lot</th>\n",
       "      <th>floors</th>\n",
       "      <th>waterfront</th>\n",
       "      <th>view</th>\n",
       "      <th>condition</th>\n",
       "      <th>grade</th>\n",
       "      <th>sqft_above</th>\n",
       "      <th>sqft_basement</th>\n",
       "      <th>yr_built</th>\n",
       "      <th>yr_renovated</th>\n",
       "      <th>lat</th>\n",
       "      <th>long</th>\n",
       "      <th>sqft_living15</th>\n",
       "      <th>sqft_lot15</th>\n",
       "      <th>year</th>\n",
       "      <th>month</th>\n",
       "    </tr>\n",
       "  </thead>\n",
       "  <tbody>\n",
       "    <tr>\n",
       "      <th>0</th>\n",
       "      <td>3</td>\n",
       "      <td>1.00</td>\n",
       "      <td>1180</td>\n",
       "      <td>5650</td>\n",
       "      <td>1.0</td>\n",
       "      <td>0</td>\n",
       "      <td>0</td>\n",
       "      <td>3</td>\n",
       "      <td>7</td>\n",
       "      <td>1180.0</td>\n",
       "      <td>0</td>\n",
       "      <td>1955</td>\n",
       "      <td>0</td>\n",
       "      <td>47.5112</td>\n",
       "      <td>-122.257</td>\n",
       "      <td>1340</td>\n",
       "      <td>5650</td>\n",
       "      <td>2014</td>\n",
       "      <td>10</td>\n",
       "    </tr>\n",
       "    <tr>\n",
       "      <th>1</th>\n",
       "      <td>3</td>\n",
       "      <td>2.25</td>\n",
       "      <td>2570</td>\n",
       "      <td>7242</td>\n",
       "      <td>2.0</td>\n",
       "      <td>0</td>\n",
       "      <td>0</td>\n",
       "      <td>3</td>\n",
       "      <td>7</td>\n",
       "      <td>2170.0</td>\n",
       "      <td>400</td>\n",
       "      <td>1951</td>\n",
       "      <td>1991</td>\n",
       "      <td>47.7210</td>\n",
       "      <td>-122.319</td>\n",
       "      <td>1690</td>\n",
       "      <td>7639</td>\n",
       "      <td>2014</td>\n",
       "      <td>12</td>\n",
       "    </tr>\n",
       "    <tr>\n",
       "      <th>2</th>\n",
       "      <td>2</td>\n",
       "      <td>1.00</td>\n",
       "      <td>770</td>\n",
       "      <td>10000</td>\n",
       "      <td>1.0</td>\n",
       "      <td>0</td>\n",
       "      <td>0</td>\n",
       "      <td>3</td>\n",
       "      <td>6</td>\n",
       "      <td>770.0</td>\n",
       "      <td>0</td>\n",
       "      <td>1933</td>\n",
       "      <td>0</td>\n",
       "      <td>47.7379</td>\n",
       "      <td>-122.233</td>\n",
       "      <td>2720</td>\n",
       "      <td>8062</td>\n",
       "      <td>2015</td>\n",
       "      <td>2</td>\n",
       "    </tr>\n",
       "    <tr>\n",
       "      <th>3</th>\n",
       "      <td>4</td>\n",
       "      <td>3.00</td>\n",
       "      <td>1960</td>\n",
       "      <td>5000</td>\n",
       "      <td>1.0</td>\n",
       "      <td>0</td>\n",
       "      <td>0</td>\n",
       "      <td>5</td>\n",
       "      <td>7</td>\n",
       "      <td>1050.0</td>\n",
       "      <td>910</td>\n",
       "      <td>1965</td>\n",
       "      <td>0</td>\n",
       "      <td>47.5208</td>\n",
       "      <td>-122.393</td>\n",
       "      <td>1360</td>\n",
       "      <td>5000</td>\n",
       "      <td>2014</td>\n",
       "      <td>12</td>\n",
       "    </tr>\n",
       "    <tr>\n",
       "      <th>4</th>\n",
       "      <td>3</td>\n",
       "      <td>2.00</td>\n",
       "      <td>1680</td>\n",
       "      <td>8080</td>\n",
       "      <td>1.0</td>\n",
       "      <td>0</td>\n",
       "      <td>0</td>\n",
       "      <td>3</td>\n",
       "      <td>8</td>\n",
       "      <td>1680.0</td>\n",
       "      <td>0</td>\n",
       "      <td>1987</td>\n",
       "      <td>0</td>\n",
       "      <td>47.6168</td>\n",
       "      <td>-122.045</td>\n",
       "      <td>1800</td>\n",
       "      <td>7503</td>\n",
       "      <td>2015</td>\n",
       "      <td>2</td>\n",
       "    </tr>\n",
       "  </tbody>\n",
       "</table>\n",
       "</div>"
      ],
      "text/plain": [
       "   bedrooms  bathrooms  sqft_living  sqft_lot  floors  waterfront  view  \\\n",
       "0         3       1.00         1180      5650     1.0           0     0   \n",
       "1         3       2.25         2570      7242     2.0           0     0   \n",
       "2         2       1.00          770     10000     1.0           0     0   \n",
       "3         4       3.00         1960      5000     1.0           0     0   \n",
       "4         3       2.00         1680      8080     1.0           0     0   \n",
       "\n",
       "   condition  grade  sqft_above  sqft_basement  yr_built  yr_renovated  \\\n",
       "0          3      7      1180.0              0      1955             0   \n",
       "1          3      7      2170.0            400      1951          1991   \n",
       "2          3      6       770.0              0      1933             0   \n",
       "3          5      7      1050.0            910      1965             0   \n",
       "4          3      8      1680.0              0      1987             0   \n",
       "\n",
       "       lat     long  sqft_living15  sqft_lot15  year  month  \n",
       "0  47.5112 -122.257           1340        5650  2014     10  \n",
       "1  47.7210 -122.319           1690        7639  2014     12  \n",
       "2  47.7379 -122.233           2720        8062  2015      2  \n",
       "3  47.5208 -122.393           1360        5000  2014     12  \n",
       "4  47.6168 -122.045           1800        7503  2015      2  "
      ]
     },
     "execution_count": 47,
     "metadata": {},
     "output_type": "execute_result"
    }
   ],
   "source": [
    "a.head()"
   ]
  },
  {
   "cell_type": "code",
   "execution_count": 48,
   "metadata": {},
   "outputs": [
    {
     "data": {
      "text/plain": [
       "price            0\n",
       "bedrooms         0\n",
       "bathrooms        0\n",
       "sqft_living      0\n",
       "sqft_lot         0\n",
       "floors           0\n",
       "waterfront       0\n",
       "view             0\n",
       "condition        0\n",
       "grade            0\n",
       "sqft_above       2\n",
       "sqft_basement    0\n",
       "yr_built         0\n",
       "yr_renovated     0\n",
       "lat              0\n",
       "long             0\n",
       "sqft_living15    0\n",
       "sqft_lot15       0\n",
       "year             0\n",
       "month            0\n",
       "dtype: int64"
      ]
     },
     "execution_count": 48,
     "metadata": {},
     "output_type": "execute_result"
    }
   ],
   "source": [
    "df.isna().sum()"
   ]
  },
  {
   "cell_type": "code",
   "execution_count": 276,
   "metadata": {},
   "outputs": [],
   "source": [
    "df=df.fillna(0)"
   ]
  },
  {
   "cell_type": "code",
   "execution_count": 277,
   "metadata": {},
   "outputs": [
    {
     "data": {
      "text/plain": [
       "price            0\n",
       "bedrooms         0\n",
       "bathrooms        0\n",
       "sqft_living      0\n",
       "sqft_lot         0\n",
       "floors           0\n",
       "waterfront       0\n",
       "view             0\n",
       "condition        0\n",
       "grade            0\n",
       "sqft_above       0\n",
       "sqft_basement    0\n",
       "yr_built         0\n",
       "yr_renovated     0\n",
       "lat              0\n",
       "long             0\n",
       "sqft_living15    0\n",
       "sqft_lot15       0\n",
       "year             0\n",
       "month            0\n",
       "dtype: int64"
      ]
     },
     "execution_count": 277,
     "metadata": {},
     "output_type": "execute_result"
    }
   ],
   "source": [
    "df.isna().sum()"
   ]
  },
  {
   "cell_type": "code",
   "execution_count": 278,
   "metadata": {},
   "outputs": [],
   "source": [
    "X=df.drop(['price','sqft_above'],axis=1).values\n",
    "y=df['price'].values"
   ]
  },
  {
   "cell_type": "code",
   "execution_count": 279,
   "metadata": {},
   "outputs": [],
   "source": [
    "from sklearn.model_selection import train_test_split"
   ]
  },
  {
   "cell_type": "code",
   "execution_count": 280,
   "metadata": {},
   "outputs": [],
   "source": [
    "X_train, X_test, y_train, y_test = train_test_split(X, y, test_size=0.3, random_state=42)"
   ]
  },
  {
   "cell_type": "code",
   "execution_count": 281,
   "metadata": {},
   "outputs": [],
   "source": [
    "from sklearn.preprocessing import MinMaxScaler"
   ]
  },
  {
   "cell_type": "code",
   "execution_count": 282,
   "metadata": {},
   "outputs": [],
   "source": [
    "scaler=MinMaxScaler()"
   ]
  },
  {
   "cell_type": "code",
   "execution_count": 283,
   "metadata": {},
   "outputs": [
    {
     "name": "stdout",
     "output_type": "stream",
     "text": [
      "[[4.000e+00 2.500e+00 2.680e+03 ... 4.500e+03 2.015e+03 3.000e+00]\n",
      " [4.000e+00 1.750e+00 2.340e+03 ... 3.270e+03 2.014e+03 1.000e+01]\n",
      " [4.000e+00 2.250e+00 2.190e+03 ... 8.400e+03 2.014e+03 8.000e+00]\n",
      " ...\n",
      " [3.000e+00 2.500e+00 2.120e+03 ... 2.650e+03 2.014e+03 9.000e+00]\n",
      " [1.000e+00 7.500e-01 3.800e+02 ... 1.500e+04 2.014e+03 6.000e+00]\n",
      " [4.000e+00 2.500e+00 3.130e+03 ... 5.997e+03 2.015e+03 3.000e+00]]\n"
     ]
    }
   ],
   "source": [
    "print(X_train)"
   ]
  },
  {
   "cell_type": "code",
   "execution_count": 284,
   "metadata": {},
   "outputs": [],
   "source": [
    "X_train=scaler.fit_transform(X_train)\n",
    "X_test=scaler.transform(X_test)"
   ]
  },
  {
   "cell_type": "code",
   "execution_count": 285,
   "metadata": {},
   "outputs": [
    {
     "name": "stdout",
     "output_type": "stream",
     "text": [
      "[[0.12121212 0.3125     0.20323129 ... 0.00442135 1.         0.18181818]\n",
      " [0.12121212 0.21875    0.17431973 ... 0.00300845 0.         0.81818182]\n",
      " [0.12121212 0.28125    0.16156463 ... 0.00890128 0.         0.63636364]\n",
      " ...\n",
      " [0.09090909 0.3125     0.15561224 ... 0.00229625 0.         0.72727273]\n",
      " [0.03030303 0.09375    0.00765306 ... 0.0164827  0.         0.45454545]\n",
      " [0.12121212 0.3125     0.2414966  ... 0.00614095 1.         0.18181818]]\n",
      "[[0.12121212 0.28125    0.15136054 ... 0.00809719 0.         0.81818182]\n",
      " [0.15151515 0.375      0.22193878 ... 0.00646948 0.         0.63636364]\n",
      " [0.12121212 0.3125     0.29591837 ... 0.01037736 0.         0.63636364]\n",
      " ...\n",
      " [0.09090909 0.125      0.07312925 ... 0.00706336 0.         0.81818182]\n",
      " [0.09090909 0.1875     0.15731293 ... 0.00476596 0.         0.90909091]\n",
      " [0.12121212 0.28125    0.18877551 ... 0.00395038 0.         0.54545455]]\n"
     ]
    }
   ],
   "source": [
    "print(X_train)\n",
    "print(X_test)"
   ]
  },
  {
   "cell_type": "code",
   "execution_count": 286,
   "metadata": {},
   "outputs": [],
   "source": [
    "from tensorflow.keras.models import Sequential\n",
    "from tensorflow.keras.layers import Dense"
   ]
  },
  {
   "cell_type": "code",
   "execution_count": 287,
   "metadata": {},
   "outputs": [
    {
     "data": {
      "text/plain": [
       "(15129, 18)"
      ]
     },
     "execution_count": 287,
     "metadata": {},
     "output_type": "execute_result"
    }
   ],
   "source": [
    "X_train.shape"
   ]
  },
  {
   "cell_type": "code",
   "execution_count": 288,
   "metadata": {},
   "outputs": [],
   "source": [
    "model=Sequential()\n",
    "\n",
    "model.add(Dense(18,activation='relu'))\n",
    "model.add(Dense(18,activation='relu'))\n",
    "model.add(Dense(18,activation='relu'))\n",
    "model.add(Dense(18,activation='relu'))\n",
    "\n",
    "model.add(Dense(1))\n",
    "model.compile(optimizer='adam',loss='mse')\n"
   ]
  },
  {
   "cell_type": "code",
   "execution_count": 289,
   "metadata": {},
   "outputs": [
    {
     "name": "stdout",
     "output_type": "stream",
     "text": [
      "Epoch 1/400\n",
      "119/119 [==============================] - 4s 9ms/step - loss: 419685367808.0000 - val_loss: 442156417024.0000\n",
      "Epoch 2/400\n",
      "119/119 [==============================] - 1s 6ms/step - loss: 418358984704.0000 - val_loss: 437602942976.0000\n",
      "Epoch 3/400\n",
      "119/119 [==============================] - 1s 6ms/step - loss: 401542938624.0000 - val_loss: 398888075264.0000\n",
      "Epoch 4/400\n",
      "119/119 [==============================] - 1s 6ms/step - loss: 323698884608.0000 - val_loss: 271780069376.0000\n",
      "Epoch 5/400\n",
      "119/119 [==============================] - 1s 5ms/step - loss: 177662017536.0000 - val_loss: 132640899072.0000\n",
      "Epoch 6/400\n",
      "119/119 [==============================] - 1s 5ms/step - loss: 103932223488.0000 - val_loss: 110404689920.0000\n",
      "Epoch 7/400\n",
      "119/119 [==============================] - 1s 5ms/step - loss: 98185912320.0000 - val_loss: 108492546048.0000\n",
      "Epoch 8/400\n",
      "119/119 [==============================] - 1s 5ms/step - loss: 96792150016.0000 - val_loss: 106926514176.0000\n",
      "Epoch 9/400\n",
      "119/119 [==============================] - 1s 5ms/step - loss: 95454175232.0000 - val_loss: 105322971136.0000\n",
      "Epoch 10/400\n",
      "119/119 [==============================] - 1s 5ms/step - loss: 94017044480.0000 - val_loss: 103770701824.0000\n",
      "Epoch 11/400\n",
      "119/119 [==============================] - 1s 5ms/step - loss: 92571156480.0000 - val_loss: 102022258688.0000\n",
      "Epoch 12/400\n",
      "119/119 [==============================] - 1s 6ms/step - loss: 91085193216.0000 - val_loss: 100399955968.0000\n",
      "Epoch 13/400\n",
      "119/119 [==============================] - 1s 5ms/step - loss: 89541853184.0000 - val_loss: 98530238464.0000\n",
      "Epoch 14/400\n",
      "119/119 [==============================] - 1s 5ms/step - loss: 87942987776.0000 - val_loss: 96732119040.0000\n",
      "Epoch 15/400\n",
      "119/119 [==============================] - 1s 5ms/step - loss: 86255706112.0000 - val_loss: 94698414080.0000\n",
      "Epoch 16/400\n",
      "119/119 [==============================] - 1s 5ms/step - loss: 84523089920.0000 - val_loss: 92697526272.0000\n",
      "Epoch 17/400\n",
      "119/119 [==============================] - 1s 6ms/step - loss: 82700255232.0000 - val_loss: 90596597760.0000\n",
      "Epoch 18/400\n",
      "119/119 [==============================] - 1s 6ms/step - loss: 80771686400.0000 - val_loss: 88398962688.0000\n",
      "Epoch 19/400\n",
      "119/119 [==============================] - 1s 5ms/step - loss: 78775869440.0000 - val_loss: 86122250240.0000\n",
      "Epoch 20/400\n",
      "119/119 [==============================] - 1s 6ms/step - loss: 76722520064.0000 - val_loss: 83698147328.0000\n",
      "Epoch 21/400\n",
      "119/119 [==============================] - 1s 5ms/step - loss: 74566926336.0000 - val_loss: 81261207552.0000\n",
      "Epoch 22/400\n",
      "119/119 [==============================] - 1s 5ms/step - loss: 72402370560.0000 - val_loss: 78805843968.0000\n",
      "Epoch 23/400\n",
      "119/119 [==============================] - 1s 5ms/step - loss: 70167191552.0000 - val_loss: 76295651328.0000\n",
      "Epoch 24/400\n",
      "119/119 [==============================] - 1s 6ms/step - loss: 67982143488.0000 - val_loss: 73858990080.0000\n",
      "Epoch 25/400\n",
      "119/119 [==============================] - 1s 5ms/step - loss: 65879867392.0000 - val_loss: 71563034624.0000\n",
      "Epoch 26/400\n",
      "119/119 [==============================] - 1s 6ms/step - loss: 63848685568.0000 - val_loss: 69346607104.0000\n",
      "Epoch 27/400\n",
      "119/119 [==============================] - 1s 5ms/step - loss: 61940002816.0000 - val_loss: 67289772032.0000\n",
      "Epoch 28/400\n",
      "119/119 [==============================] - 1s 5ms/step - loss: 60303233024.0000 - val_loss: 65429196800.0000\n",
      "Epoch 29/400\n",
      "119/119 [==============================] - 1s 5ms/step - loss: 58810036224.0000 - val_loss: 64059588608.0000\n",
      "Epoch 30/400\n",
      "119/119 [==============================] - 1s 5ms/step - loss: 57496023040.0000 - val_loss: 62484291584.0000\n",
      "Epoch 31/400\n",
      "119/119 [==============================] - 1s 5ms/step - loss: 56454688768.0000 - val_loss: 61477404672.0000\n",
      "Epoch 32/400\n",
      "119/119 [==============================] - 1s 5ms/step - loss: 55525810176.0000 - val_loss: 60358078464.0000\n",
      "Epoch 33/400\n",
      "119/119 [==============================] - 1s 5ms/step - loss: 54722404352.0000 - val_loss: 59535626240.0000\n",
      "Epoch 34/400\n",
      "119/119 [==============================] - 1s 5ms/step - loss: 53994934272.0000 - val_loss: 58729484288.0000\n",
      "Epoch 35/400\n",
      "119/119 [==============================] - 1s 6ms/step - loss: 53332045824.0000 - val_loss: 57954037760.0000\n",
      "Epoch 36/400\n",
      "119/119 [==============================] - 1s 5ms/step - loss: 52687921152.0000 - val_loss: 57256701952.0000\n",
      "Epoch 37/400\n",
      "119/119 [==============================] - 1s 5ms/step - loss: 52077510656.0000 - val_loss: 56633376768.0000\n",
      "Epoch 38/400\n",
      "119/119 [==============================] - 1s 5ms/step - loss: 51518668800.0000 - val_loss: 56026611712.0000\n",
      "Epoch 39/400\n",
      "119/119 [==============================] - 1s 5ms/step - loss: 51036823552.0000 - val_loss: 55482019840.0000\n",
      "Epoch 40/400\n",
      "119/119 [==============================] - 1s 5ms/step - loss: 50508435456.0000 - val_loss: 55095205888.0000\n",
      "Epoch 41/400\n",
      "119/119 [==============================] - 1s 6ms/step - loss: 50044604416.0000 - val_loss: 54559600640.0000\n",
      "Epoch 42/400\n",
      "119/119 [==============================] - 1s 6ms/step - loss: 49612124160.0000 - val_loss: 54013743104.0000\n",
      "Epoch 43/400\n",
      "119/119 [==============================] - 1s 6ms/step - loss: 49197879296.0000 - val_loss: 53599055872.0000\n",
      "Epoch 44/400\n",
      "119/119 [==============================] - 1s 6ms/step - loss: 48868769792.0000 - val_loss: 53183406080.0000\n",
      "Epoch 45/400\n",
      "119/119 [==============================] - 1s 6ms/step - loss: 48490962944.0000 - val_loss: 52793204736.0000\n",
      "Epoch 46/400\n",
      "119/119 [==============================] - 1s 5ms/step - loss: 48085729280.0000 - val_loss: 52440875008.0000\n",
      "Epoch 47/400\n",
      "119/119 [==============================] - 1s 6ms/step - loss: 47800860672.0000 - val_loss: 52091047936.0000\n",
      "Epoch 48/400\n",
      "119/119 [==============================] - 1s 5ms/step - loss: 47458263040.0000 - val_loss: 51788558336.0000\n",
      "Epoch 49/400\n",
      "119/119 [==============================] - 1s 6ms/step - loss: 47167864832.0000 - val_loss: 51545395200.0000\n",
      "Epoch 50/400\n",
      "119/119 [==============================] - 1s 6ms/step - loss: 46839480320.0000 - val_loss: 51153752064.0000\n",
      "Epoch 51/400\n",
      "119/119 [==============================] - 1s 6ms/step - loss: 46631260160.0000 - val_loss: 50848624640.0000\n",
      "Epoch 52/400\n",
      "119/119 [==============================] - 1s 5ms/step - loss: 46306398208.0000 - val_loss: 50625507328.0000\n",
      "Epoch 53/400\n",
      "119/119 [==============================] - 1s 6ms/step - loss: 46042927104.0000 - val_loss: 50344783872.0000\n",
      "Epoch 54/400\n",
      "119/119 [==============================] - 1s 6ms/step - loss: 45851230208.0000 - val_loss: 50041536512.0000\n",
      "Epoch 55/400\n",
      "119/119 [==============================] - 1s 5ms/step - loss: 45560967168.0000 - val_loss: 49776078848.0000\n",
      "Epoch 56/400\n",
      "119/119 [==============================] - 1s 6ms/step - loss: 45325312000.0000 - val_loss: 49513492480.0000\n",
      "Epoch 57/400\n",
      "119/119 [==============================] - 1s 6ms/step - loss: 45066407936.0000 - val_loss: 49250816000.0000\n",
      "Epoch 58/400\n",
      "119/119 [==============================] - 1s 6ms/step - loss: 44794839040.0000 - val_loss: 48972853248.0000\n",
      "Epoch 59/400\n",
      "119/119 [==============================] - 1s 5ms/step - loss: 44509552640.0000 - val_loss: 48637849600.0000\n",
      "Epoch 60/400\n",
      "119/119 [==============================] - 1s 5ms/step - loss: 44161548288.0000 - val_loss: 48352780288.0000\n",
      "Epoch 61/400\n",
      "119/119 [==============================] - 1s 5ms/step - loss: 43862581248.0000 - val_loss: 47866806272.0000\n",
      "Epoch 62/400\n",
      "119/119 [==============================] - 1s 5ms/step - loss: 43411406848.0000 - val_loss: 47459164160.0000\n",
      "Epoch 63/400\n",
      "119/119 [==============================] - 1s 5ms/step - loss: 42984935424.0000 - val_loss: 47145320448.0000\n",
      "Epoch 64/400\n",
      "119/119 [==============================] - 1s 5ms/step - loss: 42641166336.0000 - val_loss: 46736531456.0000\n",
      "Epoch 65/400\n",
      "119/119 [==============================] - 1s 5ms/step - loss: 42310156288.0000 - val_loss: 46427897856.0000\n",
      "Epoch 66/400\n",
      "119/119 [==============================] - 1s 6ms/step - loss: 42026889216.0000 - val_loss: 46134665216.0000\n",
      "Epoch 67/400\n",
      "119/119 [==============================] - 1s 5ms/step - loss: 41706827776.0000 - val_loss: 45871673344.0000\n",
      "Epoch 68/400\n"
     ]
    },
    {
     "name": "stdout",
     "output_type": "stream",
     "text": [
      "119/119 [==============================] - 1s 5ms/step - loss: 41446264832.0000 - val_loss: 45561532416.0000\n",
      "Epoch 69/400\n",
      "119/119 [==============================] - 1s 6ms/step - loss: 41162129408.0000 - val_loss: 45235585024.0000\n",
      "Epoch 70/400\n",
      "119/119 [==============================] - 1s 5ms/step - loss: 40847151104.0000 - val_loss: 44977102848.0000\n",
      "Epoch 71/400\n",
      "119/119 [==============================] - 1s 5ms/step - loss: 40574885888.0000 - val_loss: 44791984128.0000\n",
      "Epoch 72/400\n",
      "119/119 [==============================] - 1s 5ms/step - loss: 40356425728.0000 - val_loss: 44515516416.0000\n",
      "Epoch 73/400\n",
      "119/119 [==============================] - 1s 6ms/step - loss: 40140283904.0000 - val_loss: 44261019648.0000\n",
      "Epoch 74/400\n",
      "119/119 [==============================] - 1s 6ms/step - loss: 39869399040.0000 - val_loss: 44046106624.0000\n",
      "Epoch 75/400\n",
      "119/119 [==============================] - 1s 5ms/step - loss: 39673511936.0000 - val_loss: 43864457216.0000\n",
      "Epoch 76/400\n",
      "119/119 [==============================] - 1s 5ms/step - loss: 39484526592.0000 - val_loss: 43642011648.0000\n",
      "Epoch 77/400\n",
      "119/119 [==============================] - 1s 5ms/step - loss: 39241506816.0000 - val_loss: 43443355648.0000\n",
      "Epoch 78/400\n",
      "119/119 [==============================] - 1s 5ms/step - loss: 39043780608.0000 - val_loss: 43229290496.0000\n",
      "Epoch 79/400\n",
      "119/119 [==============================] - 1s 5ms/step - loss: 38818824192.0000 - val_loss: 43050270720.0000\n",
      "Epoch 80/400\n",
      "119/119 [==============================] - 1s 5ms/step - loss: 38621237248.0000 - val_loss: 42806595584.0000\n",
      "Epoch 81/400\n",
      "119/119 [==============================] - 1s 5ms/step - loss: 38407122944.0000 - val_loss: 42627149824.0000\n",
      "Epoch 82/400\n",
      "119/119 [==============================] - 1s 5ms/step - loss: 38214529024.0000 - val_loss: 42403291136.0000\n",
      "Epoch 83/400\n",
      "119/119 [==============================] - 1s 5ms/step - loss: 38006960128.0000 - val_loss: 42215456768.0000\n",
      "Epoch 84/400\n",
      "119/119 [==============================] - 1s 5ms/step - loss: 37815214080.0000 - val_loss: 42031833088.0000\n",
      "Epoch 85/400\n",
      "119/119 [==============================] - 1s 5ms/step - loss: 37653114880.0000 - val_loss: 41876856832.0000\n",
      "Epoch 86/400\n",
      "119/119 [==============================] - 1s 5ms/step - loss: 37545435136.0000 - val_loss: 41738309632.0000\n",
      "Epoch 87/400\n",
      "119/119 [==============================] - 1s 5ms/step - loss: 37309870080.0000 - val_loss: 41577152512.0000\n",
      "Epoch 88/400\n",
      "119/119 [==============================] - 1s 5ms/step - loss: 37172244480.0000 - val_loss: 41483194368.0000\n",
      "Epoch 89/400\n",
      "119/119 [==============================] - 1s 5ms/step - loss: 37043965952.0000 - val_loss: 41441091584.0000\n",
      "Epoch 90/400\n",
      "119/119 [==============================] - 1s 5ms/step - loss: 36845592576.0000 - val_loss: 41219383296.0000\n",
      "Epoch 91/400\n",
      "119/119 [==============================] - 1s 6ms/step - loss: 36729425920.0000 - val_loss: 41072861184.0000\n",
      "Epoch 92/400\n",
      "119/119 [==============================] - 1s 6ms/step - loss: 36586102784.0000 - val_loss: 40951824384.0000\n",
      "Epoch 93/400\n",
      "119/119 [==============================] - 1s 5ms/step - loss: 36467085312.0000 - val_loss: 40836861952.0000\n",
      "Epoch 94/400\n",
      "119/119 [==============================] - 1s 6ms/step - loss: 36306464768.0000 - val_loss: 40693248000.0000\n",
      "Epoch 95/400\n",
      "119/119 [==============================] - 1s 5ms/step - loss: 36239613952.0000 - val_loss: 40580468736.0000\n",
      "Epoch 96/400\n",
      "119/119 [==============================] - 1s 5ms/step - loss: 36111556608.0000 - val_loss: 40473985024.0000\n",
      "Epoch 97/400\n",
      "119/119 [==============================] - 1s 5ms/step - loss: 35950915584.0000 - val_loss: 40458063872.0000\n",
      "Epoch 98/400\n",
      "119/119 [==============================] - 1s 5ms/step - loss: 35893338112.0000 - val_loss: 40251568128.0000\n",
      "Epoch 99/400\n",
      "119/119 [==============================] - 1s 5ms/step - loss: 35761627136.0000 - val_loss: 40151805952.0000\n",
      "Epoch 100/400\n",
      "119/119 [==============================] - 1s 5ms/step - loss: 35646681088.0000 - val_loss: 40058335232.0000\n",
      "Epoch 101/400\n",
      "119/119 [==============================] - 1s 5ms/step - loss: 35544485888.0000 - val_loss: 39993204736.0000\n",
      "Epoch 102/400\n",
      "119/119 [==============================] - 1s 5ms/step - loss: 35429945344.0000 - val_loss: 39869259776.0000\n",
      "Epoch 103/400\n",
      "119/119 [==============================] - 1s 5ms/step - loss: 35327598592.0000 - val_loss: 39745396736.0000\n",
      "Epoch 104/400\n",
      "119/119 [==============================] - 1s 5ms/step - loss: 35244576768.0000 - val_loss: 39644434432.0000\n",
      "Epoch 105/400\n",
      "119/119 [==============================] - 1s 5ms/step - loss: 35137093632.0000 - val_loss: 39599951872.0000\n",
      "Epoch 106/400\n",
      "119/119 [==============================] - 1s 5ms/step - loss: 35003199488.0000 - val_loss: 39555944448.0000\n",
      "Epoch 107/400\n",
      "119/119 [==============================] - 1s 6ms/step - loss: 34914619392.0000 - val_loss: 39397314560.0000\n",
      "Epoch 108/400\n",
      "119/119 [==============================] - 1s 5ms/step - loss: 34836365312.0000 - val_loss: 39289319424.0000\n",
      "Epoch 109/400\n",
      "119/119 [==============================] - 1s 5ms/step - loss: 34733469696.0000 - val_loss: 39164862464.0000\n",
      "Epoch 110/400\n",
      "119/119 [==============================] - 1s 5ms/step - loss: 34616918016.0000 - val_loss: 39164805120.0000\n",
      "Epoch 111/400\n",
      "119/119 [==============================] - 1s 5ms/step - loss: 34542137344.0000 - val_loss: 38978449408.0000\n",
      "Epoch 112/400\n",
      "119/119 [==============================] - 1s 5ms/step - loss: 34400591872.0000 - val_loss: 38918737920.0000\n",
      "Epoch 113/400\n",
      "119/119 [==============================] - 1s 5ms/step - loss: 34293446656.0000 - val_loss: 38765248512.0000\n",
      "Epoch 114/400\n",
      "119/119 [==============================] - 1s 5ms/step - loss: 34172131328.0000 - val_loss: 38647128064.0000\n",
      "Epoch 115/400\n",
      "119/119 [==============================] - 1s 5ms/step - loss: 34042535936.0000 - val_loss: 38542340096.0000\n",
      "Epoch 116/400\n",
      "119/119 [==============================] - 1s 6ms/step - loss: 33915559936.0000 - val_loss: 38481387520.0000\n",
      "Epoch 117/400\n",
      "119/119 [==============================] - 1s 6ms/step - loss: 33816893440.0000 - val_loss: 38312910848.0000\n",
      "Epoch 118/400\n",
      "119/119 [==============================] - 1s 5ms/step - loss: 33720348672.0000 - val_loss: 38246572032.0000\n",
      "Epoch 119/400\n",
      "119/119 [==============================] - 1s 5ms/step - loss: 33593593856.0000 - val_loss: 38134595584.0000\n",
      "Epoch 120/400\n",
      "119/119 [==============================] - 1s 5ms/step - loss: 33515520000.0000 - val_loss: 38159015936.0000\n",
      "Epoch 121/400\n",
      "119/119 [==============================] - 1s 5ms/step - loss: 33419526144.0000 - val_loss: 38094647296.0000\n",
      "Epoch 122/400\n",
      "119/119 [==============================] - 1s 6ms/step - loss: 33355085824.0000 - val_loss: 37943234560.0000\n",
      "Epoch 123/400\n",
      "119/119 [==============================] - 1s 5ms/step - loss: 33249050624.0000 - val_loss: 37866000384.0000\n",
      "Epoch 124/400\n",
      "119/119 [==============================] - 1s 5ms/step - loss: 33154158592.0000 - val_loss: 37786521600.0000\n",
      "Epoch 125/400\n",
      "119/119 [==============================] - 1s 5ms/step - loss: 33149761536.0000 - val_loss: 37708083200.0000\n",
      "Epoch 126/400\n",
      "119/119 [==============================] - 1s 5ms/step - loss: 32996816896.0000 - val_loss: 37647495168.0000\n",
      "Epoch 127/400\n",
      "119/119 [==============================] - 1s 5ms/step - loss: 32951478272.0000 - val_loss: 37607698432.0000\n",
      "Epoch 128/400\n",
      "119/119 [==============================] - 1s 5ms/step - loss: 32884152320.0000 - val_loss: 37519323136.0000\n",
      "Epoch 129/400\n",
      "119/119 [==============================] - 1s 5ms/step - loss: 32816291840.0000 - val_loss: 37488517120.0000\n",
      "Epoch 130/400\n",
      "119/119 [==============================] - 1s 5ms/step - loss: 32743600128.0000 - val_loss: 37573406720.0000\n",
      "Epoch 131/400\n",
      "119/119 [==============================] - 1s 6ms/step - loss: 32671133696.0000 - val_loss: 37362380800.0000\n",
      "Epoch 132/400\n",
      "119/119 [==============================] - 1s 6ms/step - loss: 32576079872.0000 - val_loss: 37319221248.0000\n",
      "Epoch 133/400\n",
      "119/119 [==============================] - 1s 6ms/step - loss: 32524486656.0000 - val_loss: 37260701696.0000\n",
      "Epoch 134/400\n",
      "119/119 [==============================] - 1s 6ms/step - loss: 32455653376.0000 - val_loss: 37197254656.0000\n"
     ]
    },
    {
     "name": "stdout",
     "output_type": "stream",
     "text": [
      "Epoch 135/400\n",
      "119/119 [==============================] - 1s 6ms/step - loss: 32389849088.0000 - val_loss: 37146193920.0000\n",
      "Epoch 136/400\n",
      "119/119 [==============================] - 1s 5ms/step - loss: 32307996672.0000 - val_loss: 37102407680.0000\n",
      "Epoch 137/400\n",
      "119/119 [==============================] - 1s 5ms/step - loss: 32232112128.0000 - val_loss: 37122621440.0000\n",
      "Epoch 138/400\n",
      "119/119 [==============================] - 1s 5ms/step - loss: 32193646592.0000 - val_loss: 36977541120.0000\n",
      "Epoch 139/400\n",
      "119/119 [==============================] - 1s 5ms/step - loss: 32107552768.0000 - val_loss: 36911554560.0000\n",
      "Epoch 140/400\n",
      "119/119 [==============================] - 1s 5ms/step - loss: 32086052864.0000 - val_loss: 36883505152.0000\n",
      "Epoch 141/400\n",
      "119/119 [==============================] - 1s 5ms/step - loss: 31974656000.0000 - val_loss: 36851359744.0000\n",
      "Epoch 142/400\n",
      "119/119 [==============================] - 1s 5ms/step - loss: 31930140672.0000 - val_loss: 36786143232.0000\n",
      "Epoch 143/400\n",
      "119/119 [==============================] - 1s 5ms/step - loss: 31873265664.0000 - val_loss: 36731179008.0000\n",
      "Epoch 144/400\n",
      "119/119 [==============================] - 1s 5ms/step - loss: 31812761600.0000 - val_loss: 36707344384.0000\n",
      "Epoch 145/400\n",
      "119/119 [==============================] - 1s 5ms/step - loss: 31719800832.0000 - val_loss: 36637446144.0000\n",
      "Epoch 146/400\n",
      "119/119 [==============================] - 1s 5ms/step - loss: 31673278464.0000 - val_loss: 36590141440.0000\n",
      "Epoch 147/400\n",
      "119/119 [==============================] - 1s 5ms/step - loss: 31656398848.0000 - val_loss: 36634570752.0000\n",
      "Epoch 148/400\n",
      "119/119 [==============================] - 1s 5ms/step - loss: 31542380544.0000 - val_loss: 36476407808.0000\n",
      "Epoch 149/400\n",
      "119/119 [==============================] - 1s 5ms/step - loss: 31501637632.0000 - val_loss: 36406534144.0000\n",
      "Epoch 150/400\n",
      "119/119 [==============================] - 1s 5ms/step - loss: 31369828352.0000 - val_loss: 36437680128.0000\n",
      "Epoch 151/400\n",
      "119/119 [==============================] - 1s 6ms/step - loss: 31385501696.0000 - val_loss: 36328710144.0000\n",
      "Epoch 152/400\n",
      "119/119 [==============================] - 1s 6ms/step - loss: 31289210880.0000 - val_loss: 36331655168.0000\n",
      "Epoch 153/400\n",
      "119/119 [==============================] - 1s 6ms/step - loss: 31197941760.0000 - val_loss: 36275310592.0000\n",
      "Epoch 154/400\n",
      "119/119 [==============================] - 1s 7ms/step - loss: 31178401792.0000 - val_loss: 36255363072.0000\n",
      "Epoch 155/400\n",
      "119/119 [==============================] - 1s 6ms/step - loss: 31161427968.0000 - val_loss: 36189224960.0000\n",
      "Epoch 156/400\n",
      "119/119 [==============================] - 1s 5ms/step - loss: 31037732864.0000 - val_loss: 36157505536.0000\n",
      "Epoch 157/400\n",
      "119/119 [==============================] - 1s 5ms/step - loss: 31023908864.0000 - val_loss: 36140322816.0000\n",
      "Epoch 158/400\n",
      "119/119 [==============================] - 1s 5ms/step - loss: 30968516608.0000 - val_loss: 36073267200.0000\n",
      "Epoch 159/400\n",
      "119/119 [==============================] - 1s 5ms/step - loss: 30945228800.0000 - val_loss: 36068356096.0000\n",
      "Epoch 160/400\n",
      "119/119 [==============================] - 1s 5ms/step - loss: 30881056768.0000 - val_loss: 36037083136.0000\n",
      "Epoch 161/400\n",
      "119/119 [==============================] - 1s 6ms/step - loss: 30861735936.0000 - val_loss: 35994411008.0000\n",
      "Epoch 162/400\n",
      "119/119 [==============================] - 1s 6ms/step - loss: 30843013120.0000 - val_loss: 36053438464.0000\n",
      "Epoch 163/400\n",
      "119/119 [==============================] - 1s 5ms/step - loss: 30815719424.0000 - val_loss: 35970187264.0000\n",
      "Epoch 164/400\n",
      "119/119 [==============================] - 1s 5ms/step - loss: 30733152256.0000 - val_loss: 35924090880.0000\n",
      "Epoch 165/400\n",
      "119/119 [==============================] - 1s 5ms/step - loss: 30659397632.0000 - val_loss: 35938820096.0000\n",
      "Epoch 166/400\n",
      "119/119 [==============================] - 1s 5ms/step - loss: 30657892352.0000 - val_loss: 35906842624.0000\n",
      "Epoch 167/400\n",
      "119/119 [==============================] - 1s 5ms/step - loss: 30626852864.0000 - val_loss: 35866374144.0000\n",
      "Epoch 168/400\n",
      "119/119 [==============================] - 1s 5ms/step - loss: 30571739136.0000 - val_loss: 35822297088.0000\n",
      "Epoch 169/400\n",
      "119/119 [==============================] - 1s 5ms/step - loss: 30561869824.0000 - val_loss: 35797716992.0000\n",
      "Epoch 170/400\n",
      "119/119 [==============================] - 1s 5ms/step - loss: 30506907648.0000 - val_loss: 35769442304.0000\n",
      "Epoch 171/400\n",
      "119/119 [==============================] - 1s 5ms/step - loss: 30455429120.0000 - val_loss: 35833307136.0000\n",
      "Epoch 172/400\n",
      "119/119 [==============================] - 1s 5ms/step - loss: 30433521664.0000 - val_loss: 35909824512.0000\n",
      "Epoch 173/400\n",
      "119/119 [==============================] - 1s 5ms/step - loss: 30421098496.0000 - val_loss: 35741057024.0000\n",
      "Epoch 174/400\n",
      "119/119 [==============================] - 1s 5ms/step - loss: 30413346816.0000 - val_loss: 35693551616.0000\n",
      "Epoch 175/400\n",
      "119/119 [==============================] - 1s 5ms/step - loss: 30360344576.0000 - val_loss: 35676438528.0000\n",
      "Epoch 176/400\n",
      "119/119 [==============================] - 1s 5ms/step - loss: 30295846912.0000 - val_loss: 35674832896.0000\n",
      "Epoch 177/400\n",
      "119/119 [==============================] - 1s 6ms/step - loss: 30241773568.0000 - val_loss: 35678961664.0000\n",
      "Epoch 178/400\n",
      "119/119 [==============================] - 1s 5ms/step - loss: 30243203072.0000 - val_loss: 35603681280.0000\n",
      "Epoch 179/400\n",
      "119/119 [==============================] - 1s 6ms/step - loss: 30218983424.0000 - val_loss: 35587358720.0000\n",
      "Epoch 180/400\n",
      "119/119 [==============================] - 1s 5ms/step - loss: 30214469632.0000 - val_loss: 35593076736.0000\n",
      "Epoch 181/400\n",
      "119/119 [==============================] - 1s 6ms/step - loss: 30222071808.0000 - val_loss: 35529715712.0000\n",
      "Epoch 182/400\n",
      "119/119 [==============================] - 1s 6ms/step - loss: 30136815616.0000 - val_loss: 35557105664.0000\n",
      "Epoch 183/400\n",
      "119/119 [==============================] - 1s 5ms/step - loss: 30105382912.0000 - val_loss: 35513331712.0000\n",
      "Epoch 184/400\n",
      "119/119 [==============================] - 1s 5ms/step - loss: 30110248960.0000 - val_loss: 35464376320.0000\n",
      "Epoch 185/400\n",
      "119/119 [==============================] - 1s 5ms/step - loss: 30033498112.0000 - val_loss: 35637059584.0000\n",
      "Epoch 186/400\n",
      "119/119 [==============================] - 1s 5ms/step - loss: 30016251904.0000 - val_loss: 35451715584.0000\n",
      "Epoch 187/400\n",
      "119/119 [==============================] - 1s 5ms/step - loss: 29979879424.0000 - val_loss: 35418763264.0000\n",
      "Epoch 188/400\n",
      "119/119 [==============================] - 1s 5ms/step - loss: 29985310720.0000 - val_loss: 35399467008.0000\n",
      "Epoch 189/400\n",
      "119/119 [==============================] - 1s 5ms/step - loss: 29932898304.0000 - val_loss: 35414429696.0000\n",
      "Epoch 190/400\n",
      "119/119 [==============================] - 1s 6ms/step - loss: 29881864192.0000 - val_loss: 35380699136.0000\n",
      "Epoch 191/400\n",
      "119/119 [==============================] - 1s 6ms/step - loss: 29891340288.0000 - val_loss: 35327066112.0000\n",
      "Epoch 192/400\n",
      "119/119 [==============================] - 1s 5ms/step - loss: 29884710912.0000 - val_loss: 35325456384.0000\n",
      "Epoch 193/400\n",
      "119/119 [==============================] - 1s 5ms/step - loss: 29835921408.0000 - val_loss: 35283591168.0000\n",
      "Epoch 194/400\n",
      "119/119 [==============================] - 1s 5ms/step - loss: 29797949440.0000 - val_loss: 35346001920.0000\n",
      "Epoch 195/400\n",
      "119/119 [==============================] - 1s 5ms/step - loss: 29754757120.0000 - val_loss: 35273539584.0000\n",
      "Epoch 196/400\n",
      "119/119 [==============================] - 1s 5ms/step - loss: 29727002624.0000 - val_loss: 35366756352.0000\n",
      "Epoch 197/400\n",
      "119/119 [==============================] - 1s 6ms/step - loss: 29692942336.0000 - val_loss: 35239641088.0000\n",
      "Epoch 198/400\n",
      "119/119 [==============================] - 1s 6ms/step - loss: 29657751552.0000 - val_loss: 35264823296.0000\n",
      "Epoch 199/400\n",
      "119/119 [==============================] - 1s 6ms/step - loss: 29634443264.0000 - val_loss: 35307200512.0000\n",
      "Epoch 200/400\n",
      "119/119 [==============================] - 1s 5ms/step - loss: 29623994368.0000 - val_loss: 35178004480.0000\n",
      "Epoch 201/400\n"
     ]
    },
    {
     "name": "stdout",
     "output_type": "stream",
     "text": [
      "119/119 [==============================] - 1s 5ms/step - loss: 29612861440.0000 - val_loss: 35208089600.0000\n",
      "Epoch 202/400\n",
      "119/119 [==============================] - 1s 5ms/step - loss: 29587679232.0000 - val_loss: 35158007808.0000\n",
      "Epoch 203/400\n",
      "119/119 [==============================] - 1s 6ms/step - loss: 29538396160.0000 - val_loss: 35152973824.0000\n",
      "Epoch 204/400\n",
      "119/119 [==============================] - 1s 6ms/step - loss: 29516789760.0000 - val_loss: 35107004416.0000\n",
      "Epoch 205/400\n",
      "119/119 [==============================] - 1s 5ms/step - loss: 29495724032.0000 - val_loss: 35132911616.0000\n",
      "Epoch 206/400\n",
      "119/119 [==============================] - 1s 5ms/step - loss: 29464170496.0000 - val_loss: 35136335872.0000\n",
      "Epoch 207/400\n",
      "119/119 [==============================] - 1s 5ms/step - loss: 29419460608.0000 - val_loss: 35074605056.0000\n",
      "Epoch 208/400\n",
      "119/119 [==============================] - 1s 6ms/step - loss: 29442748416.0000 - val_loss: 35125698560.0000\n",
      "Epoch 209/400\n",
      "119/119 [==============================] - 1s 6ms/step - loss: 29401401344.0000 - val_loss: 35014963200.0000\n",
      "Epoch 210/400\n",
      "119/119 [==============================] - 1s 5ms/step - loss: 29380259840.0000 - val_loss: 35011137536.0000\n",
      "Epoch 211/400\n",
      "119/119 [==============================] - 1s 6ms/step - loss: 29352302592.0000 - val_loss: 34987581440.0000\n",
      "Epoch 212/400\n",
      "119/119 [==============================] - 1s 6ms/step - loss: 29294295040.0000 - val_loss: 34996342784.0000\n",
      "Epoch 213/400\n",
      "119/119 [==============================] - 1s 6ms/step - loss: 29311492096.0000 - val_loss: 34991710208.0000\n",
      "Epoch 214/400\n",
      "119/119 [==============================] - 1s 5ms/step - loss: 29270319104.0000 - val_loss: 34951999488.0000\n",
      "Epoch 215/400\n",
      "119/119 [==============================] - 1s 5ms/step - loss: 29257478144.0000 - val_loss: 34956685312.0000\n",
      "Epoch 216/400\n",
      "119/119 [==============================] - 1s 5ms/step - loss: 29224568832.0000 - val_loss: 34951118848.0000\n",
      "Epoch 217/400\n",
      "119/119 [==============================] - 1s 5ms/step - loss: 29237891072.0000 - val_loss: 34959601664.0000\n",
      "Epoch 218/400\n",
      "119/119 [==============================] - 1s 6ms/step - loss: 29163853824.0000 - val_loss: 34970501120.0000\n",
      "Epoch 219/400\n",
      "119/119 [==============================] - 1s 5ms/step - loss: 29168318464.0000 - val_loss: 34858385408.0000\n",
      "Epoch 220/400\n",
      "119/119 [==============================] - 1s 5ms/step - loss: 29149569024.0000 - val_loss: 34821165056.0000\n",
      "Epoch 221/400\n",
      "119/119 [==============================] - 1s 5ms/step - loss: 29111957504.0000 - val_loss: 34812477440.0000\n",
      "Epoch 222/400\n",
      "119/119 [==============================] - 1s 5ms/step - loss: 29108375552.0000 - val_loss: 34810408960.0000\n",
      "Epoch 223/400\n",
      "119/119 [==============================] - 1s 5ms/step - loss: 29053812736.0000 - val_loss: 34798997504.0000\n",
      "Epoch 224/400\n",
      "119/119 [==============================] - 1s 5ms/step - loss: 29096441856.0000 - val_loss: 34969526272.0000\n",
      "Epoch 225/400\n",
      "119/119 [==============================] - 1s 5ms/step - loss: 29002358784.0000 - val_loss: 34782056448.0000\n",
      "Epoch 226/400\n",
      "119/119 [==============================] - 1s 5ms/step - loss: 29034577920.0000 - val_loss: 34753851392.0000\n",
      "Epoch 227/400\n",
      "119/119 [==============================] - 1s 5ms/step - loss: 28986228736.0000 - val_loss: 34730278912.0000\n",
      "Epoch 228/400\n",
      "119/119 [==============================] - 1s 6ms/step - loss: 28946081792.0000 - val_loss: 34695737344.0000\n",
      "Epoch 229/400\n",
      "119/119 [==============================] - 1s 5ms/step - loss: 28928534528.0000 - val_loss: 34647941120.0000\n",
      "Epoch 230/400\n",
      "119/119 [==============================] - 1s 6ms/step - loss: 28920797184.0000 - val_loss: 34641293312.0000\n",
      "Epoch 231/400\n",
      "119/119 [==============================] - 1s 6ms/step - loss: 28880349184.0000 - val_loss: 34686091264.0000\n",
      "Epoch 232/400\n",
      "119/119 [==============================] - 1s 5ms/step - loss: 28913133568.0000 - val_loss: 34619965440.0000\n",
      "Epoch 233/400\n",
      "119/119 [==============================] - 1s 5ms/step - loss: 28849516544.0000 - val_loss: 34669658112.0000\n",
      "Epoch 234/400\n",
      "119/119 [==============================] - 1s 6ms/step - loss: 28850870272.0000 - val_loss: 34582179840.0000\n",
      "Epoch 235/400\n",
      "119/119 [==============================] - 1s 5ms/step - loss: 28806590464.0000 - val_loss: 34635911168.0000\n",
      "Epoch 236/400\n",
      "119/119 [==============================] - 1s 5ms/step - loss: 28818577408.0000 - val_loss: 34597363712.0000\n",
      "Epoch 237/400\n",
      "119/119 [==============================] - 1s 5ms/step - loss: 28791250944.0000 - val_loss: 34574151680.0000\n",
      "Epoch 238/400\n",
      "119/119 [==============================] - 1s 5ms/step - loss: 28767223808.0000 - val_loss: 34538672128.0000\n",
      "Epoch 239/400\n",
      "119/119 [==============================] - 1s 5ms/step - loss: 28740864000.0000 - val_loss: 34505748480.0000\n",
      "Epoch 240/400\n",
      "119/119 [==============================] - 1s 5ms/step - loss: 28701022208.0000 - val_loss: 34476797952.0000\n",
      "Epoch 241/400\n",
      "119/119 [==============================] - 1s 5ms/step - loss: 28710461440.0000 - val_loss: 34585739264.0000\n",
      "Epoch 242/400\n",
      "119/119 [==============================] - 1s 5ms/step - loss: 28672454656.0000 - val_loss: 34540912640.0000\n",
      "Epoch 243/400\n",
      "119/119 [==============================] - 1s 5ms/step - loss: 28631162880.0000 - val_loss: 34954784768.0000\n",
      "Epoch 244/400\n",
      "119/119 [==============================] - 1s 5ms/step - loss: 28686968832.0000 - val_loss: 34502799360.0000\n",
      "Epoch 245/400\n",
      "119/119 [==============================] - 1s 5ms/step - loss: 28651829248.0000 - val_loss: 34446229504.0000\n",
      "Epoch 246/400\n",
      "119/119 [==============================] - 1s 5ms/step - loss: 28616540160.0000 - val_loss: 34422292480.0000\n",
      "Epoch 247/400\n",
      "119/119 [==============================] - 1s 5ms/step - loss: 28602646528.0000 - val_loss: 34431991808.0000\n",
      "Epoch 248/400\n",
      "119/119 [==============================] - 1s 5ms/step - loss: 28591736832.0000 - val_loss: 34356539392.0000\n",
      "Epoch 249/400\n",
      "119/119 [==============================] - 1s 5ms/step - loss: 28571813888.0000 - val_loss: 34399653888.0000\n",
      "Epoch 250/400\n",
      "119/119 [==============================] - 1s 5ms/step - loss: 28528037888.0000 - val_loss: 34341265408.0000\n",
      "Epoch 251/400\n",
      "119/119 [==============================] - 1s 5ms/step - loss: 28530067456.0000 - val_loss: 34341646336.0000\n",
      "Epoch 252/400\n",
      "119/119 [==============================] - 1s 5ms/step - loss: 28496525312.0000 - val_loss: 34349152256.0000\n",
      "Epoch 253/400\n",
      "119/119 [==============================] - 1s 5ms/step - loss: 28499398656.0000 - val_loss: 34314717184.0000\n",
      "Epoch 254/400\n",
      "119/119 [==============================] - 1s 5ms/step - loss: 28487145472.0000 - val_loss: 34420449280.0000\n",
      "Epoch 255/400\n",
      "119/119 [==============================] - 1s 5ms/step - loss: 28441618432.0000 - val_loss: 34333591552.0000\n",
      "Epoch 256/400\n",
      "119/119 [==============================] - 1s 5ms/step - loss: 28419764224.0000 - val_loss: 34284367872.0000\n",
      "Epoch 257/400\n",
      "119/119 [==============================] - 1s 5ms/step - loss: 28432101376.0000 - val_loss: 34570018816.0000\n",
      "Epoch 258/400\n",
      "119/119 [==============================] - 1s 5ms/step - loss: 28458323968.0000 - val_loss: 34243829760.0000\n",
      "Epoch 259/400\n",
      "119/119 [==============================] - 1s 5ms/step - loss: 28380594176.0000 - val_loss: 34218391552.0000\n",
      "Epoch 260/400\n",
      "119/119 [==============================] - 1s 5ms/step - loss: 28360656896.0000 - val_loss: 34218635264.0000\n",
      "Epoch 261/400\n",
      "119/119 [==============================] - 1s 5ms/step - loss: 28361433088.0000 - val_loss: 34191491072.0000\n",
      "Epoch 262/400\n",
      "119/119 [==============================] - 1s 5ms/step - loss: 28320536576.0000 - val_loss: 34317035520.0000\n",
      "Epoch 263/400\n",
      "119/119 [==============================] - 1s 5ms/step - loss: 28326619136.0000 - val_loss: 34192934912.0000\n",
      "Epoch 264/400\n",
      "119/119 [==============================] - 1s 5ms/step - loss: 28330422272.0000 - val_loss: 34112059392.0000\n",
      "Epoch 265/400\n",
      "119/119 [==============================] - 1s 5ms/step - loss: 28270905344.0000 - val_loss: 34104956928.0000\n",
      "Epoch 266/400\n",
      "119/119 [==============================] - 1s 6ms/step - loss: 28240304128.0000 - val_loss: 34083522560.0000\n",
      "Epoch 267/400\n"
     ]
    },
    {
     "name": "stdout",
     "output_type": "stream",
     "text": [
      "119/119 [==============================] - 1s 5ms/step - loss: 28242313216.0000 - val_loss: 34128824320.0000\n",
      "Epoch 268/400\n",
      "119/119 [==============================] - 1s 5ms/step - loss: 28291303424.0000 - val_loss: 34045442048.0000\n",
      "Epoch 269/400\n",
      "119/119 [==============================] - 1s 5ms/step - loss: 28210817024.0000 - val_loss: 34153811968.0000\n",
      "Epoch 270/400\n",
      "119/119 [==============================] - 1s 5ms/step - loss: 28189259776.0000 - val_loss: 34012938240.0000\n",
      "Epoch 271/400\n",
      "119/119 [==============================] - 1s 5ms/step - loss: 28199864320.0000 - val_loss: 33960071168.0000\n",
      "Epoch 272/400\n",
      "119/119 [==============================] - 1s 5ms/step - loss: 28164823040.0000 - val_loss: 34012633088.0000\n",
      "Epoch 273/400\n",
      "119/119 [==============================] - 1s 5ms/step - loss: 28169367552.0000 - val_loss: 34011285504.0000\n",
      "Epoch 274/400\n",
      "119/119 [==============================] - 1s 5ms/step - loss: 28120072192.0000 - val_loss: 34080784384.0000\n",
      "Epoch 275/400\n",
      "119/119 [==============================] - 1s 5ms/step - loss: 28173531136.0000 - val_loss: 34125389824.0000\n",
      "Epoch 276/400\n",
      "119/119 [==============================] - 1s 5ms/step - loss: 28120664064.0000 - val_loss: 33878603776.0000\n",
      "Epoch 277/400\n",
      "119/119 [==============================] - 1s 5ms/step - loss: 28134287360.0000 - val_loss: 34026190848.0000\n",
      "Epoch 278/400\n",
      "119/119 [==============================] - 1s 5ms/step - loss: 28082935808.0000 - val_loss: 33964353536.0000\n",
      "Epoch 279/400\n",
      "119/119 [==============================] - 1s 5ms/step - loss: 28037208064.0000 - val_loss: 33924112384.0000\n",
      "Epoch 280/400\n",
      "119/119 [==============================] - 1s 5ms/step - loss: 28019902464.0000 - val_loss: 34030104576.0000\n",
      "Epoch 281/400\n",
      "119/119 [==============================] - 1s 6ms/step - loss: 28043395072.0000 - val_loss: 33850087424.0000\n",
      "Epoch 282/400\n",
      "119/119 [==============================] - 1s 5ms/step - loss: 28018497536.0000 - val_loss: 33814996992.0000\n",
      "Epoch 283/400\n",
      "119/119 [==============================] - 1s 5ms/step - loss: 28006658048.0000 - val_loss: 33795325952.0000\n",
      "Epoch 284/400\n",
      "119/119 [==============================] - 1s 5ms/step - loss: 27959986176.0000 - val_loss: 33780142080.0000\n",
      "Epoch 285/400\n",
      "119/119 [==============================] - 1s 5ms/step - loss: 27958081536.0000 - val_loss: 33719896064.0000\n",
      "Epoch 286/400\n",
      "119/119 [==============================] - 1s 5ms/step - loss: 27930167296.0000 - val_loss: 33773852672.0000\n",
      "Epoch 287/400\n",
      "119/119 [==============================] - 1s 5ms/step - loss: 27941988352.0000 - val_loss: 33691852800.0000\n",
      "Epoch 288/400\n",
      "119/119 [==============================] - 1s 5ms/step - loss: 27933696000.0000 - val_loss: 33683898368.0000\n",
      "Epoch 289/400\n",
      "119/119 [==============================] - 1s 6ms/step - loss: 27883700224.0000 - val_loss: 33719490560.0000\n",
      "Epoch 290/400\n",
      "119/119 [==============================] - 1s 6ms/step - loss: 27843543040.0000 - val_loss: 33656262656.0000\n",
      "Epoch 291/400\n",
      "119/119 [==============================] - 1s 5ms/step - loss: 27844118528.0000 - val_loss: 33634758656.0000\n",
      "Epoch 292/400\n",
      "119/119 [==============================] - 1s 5ms/step - loss: 27835291648.0000 - val_loss: 33681600512.0000\n",
      "Epoch 293/400\n",
      "119/119 [==============================] - 1s 5ms/step - loss: 27827384320.0000 - val_loss: 33932371968.0000\n",
      "Epoch 294/400\n",
      "119/119 [==============================] - 1s 5ms/step - loss: 27828389888.0000 - val_loss: 33674041344.0000\n",
      "Epoch 295/400\n",
      "119/119 [==============================] - 1s 5ms/step - loss: 27818764288.0000 - val_loss: 33690820608.0000\n",
      "Epoch 296/400\n",
      "119/119 [==============================] - 1s 5ms/step - loss: 27768717312.0000 - val_loss: 33900300288.0000\n",
      "Epoch 297/400\n",
      "119/119 [==============================] - 1s 5ms/step - loss: 27796293632.0000 - val_loss: 33610297344.0000\n",
      "Epoch 298/400\n",
      "119/119 [==============================] - 1s 6ms/step - loss: 27745402880.0000 - val_loss: 33674012672.0000\n",
      "Epoch 299/400\n",
      "119/119 [==============================] - 1s 5ms/step - loss: 27763515392.0000 - val_loss: 33603575808.0000\n",
      "Epoch 300/400\n",
      "119/119 [==============================] - 1s 5ms/step - loss: 27765686272.0000 - val_loss: 33506277376.0000\n",
      "Epoch 301/400\n",
      "119/119 [==============================] - 1s 5ms/step - loss: 27724488704.0000 - val_loss: 33562966016.0000\n",
      "Epoch 302/400\n",
      "119/119 [==============================] - 1s 5ms/step - loss: 27707506688.0000 - val_loss: 33467199488.0000\n",
      "Epoch 303/400\n",
      "119/119 [==============================] - 1s 5ms/step - loss: 27663763456.0000 - val_loss: 33511114752.0000\n",
      "Epoch 304/400\n",
      "119/119 [==============================] - 1s 6ms/step - loss: 27682394112.0000 - val_loss: 33399750656.0000\n",
      "Epoch 305/400\n",
      "119/119 [==============================] - 1s 5ms/step - loss: 27655325696.0000 - val_loss: 33408612352.0000\n",
      "Epoch 306/400\n",
      "119/119 [==============================] - 1s 5ms/step - loss: 27641278464.0000 - val_loss: 33501261824.0000\n",
      "Epoch 307/400\n",
      "119/119 [==============================] - 1s 6ms/step - loss: 27696060416.0000 - val_loss: 33426964480.0000\n",
      "Epoch 308/400\n",
      "119/119 [==============================] - 1s 5ms/step - loss: 27624865792.0000 - val_loss: 33659557888.0000\n",
      "Epoch 309/400\n",
      "119/119 [==============================] - 1s 5ms/step - loss: 27596953600.0000 - val_loss: 33444327424.0000\n",
      "Epoch 310/400\n",
      "119/119 [==============================] - 1s 5ms/step - loss: 27572305920.0000 - val_loss: 33407854592.0000\n",
      "Epoch 311/400\n",
      "119/119 [==============================] - 1s 5ms/step - loss: 27598217216.0000 - val_loss: 33344569344.0000\n",
      "Epoch 312/400\n",
      "119/119 [==============================] - 1s 5ms/step - loss: 27553947648.0000 - val_loss: 33353539584.0000\n",
      "Epoch 313/400\n",
      "119/119 [==============================] - 1s 5ms/step - loss: 27556747264.0000 - val_loss: 33363056640.0000\n",
      "Epoch 314/400\n",
      "119/119 [==============================] - 1s 5ms/step - loss: 27548192768.0000 - val_loss: 33283131392.0000\n",
      "Epoch 315/400\n",
      "119/119 [==============================] - 1s 5ms/step - loss: 27541432320.0000 - val_loss: 33283553280.0000\n",
      "Epoch 316/400\n",
      "119/119 [==============================] - 1s 5ms/step - loss: 27486984192.0000 - val_loss: 33234374656.0000\n",
      "Epoch 317/400\n",
      "119/119 [==============================] - 1s 5ms/step - loss: 27500142592.0000 - val_loss: 33231028224.0000\n",
      "Epoch 318/400\n",
      "119/119 [==============================] - 1s 5ms/step - loss: 27499628544.0000 - val_loss: 33213108224.0000\n",
      "Epoch 319/400\n",
      "119/119 [==============================] - 1s 5ms/step - loss: 27527094272.0000 - val_loss: 33361897472.0000\n",
      "Epoch 320/400\n",
      "119/119 [==============================] - 1s 5ms/step - loss: 27484583936.0000 - val_loss: 33305985024.0000\n",
      "Epoch 321/400\n",
      "119/119 [==============================] - 1s 6ms/step - loss: 27465242624.0000 - val_loss: 33245626368.0000\n",
      "Epoch 322/400\n",
      "119/119 [==============================] - 1s 5ms/step - loss: 27440785408.0000 - val_loss: 33697964032.0000\n",
      "Epoch 323/400\n",
      "119/119 [==============================] - 1s 6ms/step - loss: 27498340352.0000 - val_loss: 33225588736.0000\n",
      "Epoch 324/400\n",
      "119/119 [==============================] - 1s 5ms/step - loss: 27409395712.0000 - val_loss: 33315670016.0000\n",
      "Epoch 325/400\n",
      "119/119 [==============================] - 1s 5ms/step - loss: 27399069696.0000 - val_loss: 33179721728.0000\n",
      "Epoch 326/400\n",
      "119/119 [==============================] - 1s 5ms/step - loss: 27380310016.0000 - val_loss: 33257474048.0000\n",
      "Epoch 327/400\n",
      "119/119 [==============================] - 1s 5ms/step - loss: 27368708096.0000 - val_loss: 33098403840.0000\n",
      "Epoch 328/400\n",
      "119/119 [==============================] - 1s 5ms/step - loss: 27372208128.0000 - val_loss: 33141585920.0000\n",
      "Epoch 329/400\n",
      "119/119 [==============================] - 1s 5ms/step - loss: 27384258560.0000 - val_loss: 33133987840.0000\n",
      "Epoch 330/400\n",
      "119/119 [==============================] - 1s 5ms/step - loss: 27344457728.0000 - val_loss: 33065842688.0000\n",
      "Epoch 331/400\n",
      "119/119 [==============================] - 1s 5ms/step - loss: 27332986880.0000 - val_loss: 33073684480.0000\n",
      "Epoch 332/400\n",
      "119/119 [==============================] - 1s 5ms/step - loss: 27319171072.0000 - val_loss: 33127673856.0000\n",
      "Epoch 333/400\n"
     ]
    },
    {
     "name": "stdout",
     "output_type": "stream",
     "text": [
      "119/119 [==============================] - 1s 5ms/step - loss: 27298543616.0000 - val_loss: 33011955712.0000\n",
      "Epoch 334/400\n",
      "119/119 [==============================] - 1s 5ms/step - loss: 27294771200.0000 - val_loss: 33034555392.0000\n",
      "Epoch 335/400\n",
      "119/119 [==============================] - 1s 5ms/step - loss: 27332028416.0000 - val_loss: 32959913984.0000\n",
      "Epoch 336/400\n",
      "119/119 [==============================] - 1s 5ms/step - loss: 27286478848.0000 - val_loss: 32949272576.0000\n",
      "Epoch 337/400\n",
      "119/119 [==============================] - 1s 5ms/step - loss: 27246407680.0000 - val_loss: 32938049536.0000\n",
      "Epoch 338/400\n",
      "119/119 [==============================] - 1s 5ms/step - loss: 27238477824.0000 - val_loss: 32947818496.0000\n",
      "Epoch 339/400\n",
      "119/119 [==============================] - 1s 5ms/step - loss: 27258300416.0000 - val_loss: 32960776192.0000\n",
      "Epoch 340/400\n",
      "119/119 [==============================] - 1s 5ms/step - loss: 27253460992.0000 - val_loss: 32868145152.0000\n",
      "Epoch 341/400\n",
      "119/119 [==============================] - 1s 5ms/step - loss: 27251234816.0000 - val_loss: 32876529664.0000\n",
      "Epoch 342/400\n",
      "119/119 [==============================] - 1s 5ms/step - loss: 27210815488.0000 - val_loss: 32848941056.0000\n",
      "Epoch 343/400\n",
      "119/119 [==============================] - 1s 5ms/step - loss: 27181799424.0000 - val_loss: 32827252736.0000\n",
      "Epoch 344/400\n",
      "119/119 [==============================] - 1s 5ms/step - loss: 27168311296.0000 - val_loss: 32826920960.0000\n",
      "Epoch 345/400\n",
      "119/119 [==============================] - 1s 5ms/step - loss: 27161626624.0000 - val_loss: 32974342144.0000\n",
      "Epoch 346/400\n",
      "119/119 [==============================] - 1s 5ms/step - loss: 27185739776.0000 - val_loss: 32970262528.0000\n",
      "Epoch 347/400\n",
      "119/119 [==============================] - 1s 5ms/step - loss: 27150276608.0000 - val_loss: 32821049344.0000\n",
      "Epoch 348/400\n",
      "119/119 [==============================] - 1s 5ms/step - loss: 27119898624.0000 - val_loss: 32760133632.0000\n",
      "Epoch 349/400\n",
      "119/119 [==============================] - 1s 5ms/step - loss: 27156365312.0000 - val_loss: 32631982080.0000\n",
      "Epoch 350/400\n",
      "119/119 [==============================] - 1s 5ms/step - loss: 27137048576.0000 - val_loss: 32709433344.0000\n",
      "Epoch 351/400\n",
      "119/119 [==============================] - 1s 5ms/step - loss: 27122317312.0000 - val_loss: 32685432832.0000\n",
      "Epoch 352/400\n",
      "119/119 [==============================] - 1s 5ms/step - loss: 27105413120.0000 - val_loss: 32647323648.0000\n",
      "Epoch 353/400\n",
      "119/119 [==============================] - 1s 5ms/step - loss: 27101745152.0000 - val_loss: 32690839552.0000\n",
      "Epoch 354/400\n",
      "119/119 [==============================] - 1s 5ms/step - loss: 27140765696.0000 - val_loss: 32697929728.0000\n",
      "Epoch 355/400\n",
      "119/119 [==============================] - 1s 5ms/step - loss: 27064449024.0000 - val_loss: 32699787264.0000\n",
      "Epoch 356/400\n",
      "119/119 [==============================] - 1s 5ms/step - loss: 27083233280.0000 - val_loss: 32746678272.0000\n",
      "Epoch 357/400\n",
      "119/119 [==============================] - 1s 5ms/step - loss: 27023663104.0000 - val_loss: 32624846848.0000\n",
      "Epoch 358/400\n",
      "119/119 [==============================] - 1s 6ms/step - loss: 27061626880.0000 - val_loss: 32605544448.0000\n",
      "Epoch 359/400\n",
      "119/119 [==============================] - 1s 5ms/step - loss: 27043436544.0000 - val_loss: 32573452288.0000\n",
      "Epoch 360/400\n",
      "119/119 [==============================] - 1s 5ms/step - loss: 27010756608.0000 - val_loss: 32601186304.0000\n",
      "Epoch 361/400\n",
      "119/119 [==============================] - 1s 5ms/step - loss: 27013472256.0000 - val_loss: 32503265280.0000\n",
      "Epoch 362/400\n",
      "119/119 [==============================] - 1s 5ms/step - loss: 26997747712.0000 - val_loss: 32512280576.0000\n",
      "Epoch 363/400\n",
      "119/119 [==============================] - 1s 5ms/step - loss: 27000461312.0000 - val_loss: 32565456896.0000\n",
      "Epoch 364/400\n",
      "119/119 [==============================] - 1s 5ms/step - loss: 27001344000.0000 - val_loss: 32402583552.0000\n",
      "Epoch 365/400\n",
      "119/119 [==============================] - 1s 5ms/step - loss: 26977591296.0000 - val_loss: 32410329088.0000\n",
      "Epoch 366/400\n",
      "119/119 [==============================] - 1s 5ms/step - loss: 26947192832.0000 - val_loss: 32464216064.0000\n",
      "Epoch 367/400\n",
      "119/119 [==============================] - 1s 5ms/step - loss: 26962657280.0000 - val_loss: 32459102208.0000\n",
      "Epoch 368/400\n",
      "119/119 [==============================] - 1s 5ms/step - loss: 26955687936.0000 - val_loss: 32479078400.0000\n",
      "Epoch 369/400\n",
      "119/119 [==============================] - 1s 5ms/step - loss: 26962567168.0000 - val_loss: 32451753984.0000\n",
      "Epoch 370/400\n",
      "119/119 [==============================] - 1s 5ms/step - loss: 26909267968.0000 - val_loss: 32430080000.0000\n",
      "Epoch 371/400\n",
      "119/119 [==============================] - 1s 5ms/step - loss: 26899912704.0000 - val_loss: 32417060864.0000\n",
      "Epoch 372/400\n",
      "119/119 [==============================] - 1s 5ms/step - loss: 26903205888.0000 - val_loss: 32366153728.0000\n",
      "Epoch 373/400\n",
      "119/119 [==============================] - 1s 5ms/step - loss: 26888712192.0000 - val_loss: 32396328960.0000\n",
      "Epoch 374/400\n",
      "119/119 [==============================] - 1s 5ms/step - loss: 26904578048.0000 - val_loss: 32322856960.0000\n",
      "Epoch 375/400\n",
      "119/119 [==============================] - 1s 5ms/step - loss: 26836520960.0000 - val_loss: 32388681728.0000\n",
      "Epoch 376/400\n",
      "119/119 [==============================] - 1s 5ms/step - loss: 26874081280.0000 - val_loss: 32351174656.0000\n",
      "Epoch 377/400\n",
      "119/119 [==============================] - 1s 5ms/step - loss: 26853466112.0000 - val_loss: 32314292224.0000\n",
      "Epoch 378/400\n",
      "119/119 [==============================] - 1s 5ms/step - loss: 26823165952.0000 - val_loss: 32218589184.0000\n",
      "Epoch 379/400\n",
      "119/119 [==============================] - 1s 5ms/step - loss: 26804250624.0000 - val_loss: 32343869440.0000\n",
      "Epoch 380/400\n",
      "119/119 [==============================] - 1s 5ms/step - loss: 26802057216.0000 - val_loss: 32237391872.0000\n",
      "Epoch 381/400\n",
      "119/119 [==============================] - 1s 5ms/step - loss: 26791043072.0000 - val_loss: 32178671616.0000\n",
      "Epoch 382/400\n",
      "119/119 [==============================] - 1s 5ms/step - loss: 26834991104.0000 - val_loss: 32168036352.0000\n",
      "Epoch 383/400\n",
      "119/119 [==============================] - 1s 5ms/step - loss: 26790942720.0000 - val_loss: 32191676416.0000\n",
      "Epoch 384/400\n",
      "119/119 [==============================] - 1s 5ms/step - loss: 26776629248.0000 - val_loss: 32168955904.0000\n",
      "Epoch 385/400\n",
      "119/119 [==============================] - 1s 5ms/step - loss: 26738837504.0000 - val_loss: 32286453760.0000\n",
      "Epoch 386/400\n",
      "119/119 [==============================] - 1s 5ms/step - loss: 26805385216.0000 - val_loss: 32307281920.0000\n",
      "Epoch 387/400\n",
      "119/119 [==============================] - 1s 5ms/step - loss: 26728429568.0000 - val_loss: 32161572864.0000\n",
      "Epoch 388/400\n",
      "119/119 [==============================] - 1s 5ms/step - loss: 26776625152.0000 - val_loss: 32062097408.0000\n",
      "Epoch 389/400\n",
      "119/119 [==============================] - 1s 5ms/step - loss: 26725799936.0000 - val_loss: 32126117888.0000\n",
      "Epoch 390/400\n",
      "119/119 [==============================] - 1s 5ms/step - loss: 26735886336.0000 - val_loss: 32365617152.0000\n",
      "Epoch 391/400\n",
      "119/119 [==============================] - 1s 5ms/step - loss: 26747426816.0000 - val_loss: 32137709568.0000\n",
      "Epoch 392/400\n",
      "119/119 [==============================] - 1s 5ms/step - loss: 26697129984.0000 - val_loss: 32011810816.0000\n",
      "Epoch 393/400\n",
      "119/119 [==============================] - 1s 5ms/step - loss: 26669572096.0000 - val_loss: 32024219648.0000\n",
      "Epoch 394/400\n",
      "119/119 [==============================] - 1s 5ms/step - loss: 26654038016.0000 - val_loss: 31928094720.0000\n",
      "Epoch 395/400\n",
      "119/119 [==============================] - 1s 5ms/step - loss: 26649309184.0000 - val_loss: 32041259008.0000\n",
      "Epoch 396/400\n",
      "119/119 [==============================] - 1s 5ms/step - loss: 26649747456.0000 - val_loss: 31983357952.0000\n",
      "Epoch 397/400\n",
      "119/119 [==============================] - 1s 5ms/step - loss: 26661636096.0000 - val_loss: 31994490880.0000\n",
      "Epoch 398/400\n",
      "119/119 [==============================] - 1s 5ms/step - loss: 26639659008.0000 - val_loss: 31958620160.0000\n",
      "Epoch 399/400\n"
     ]
    },
    {
     "name": "stdout",
     "output_type": "stream",
     "text": [
      "119/119 [==============================] - 1s 5ms/step - loss: 26621224960.0000 - val_loss: 31927543808.0000\n",
      "Epoch 400/400\n",
      "119/119 [==============================] - 1s 5ms/step - loss: 26621478912.0000 - val_loss: 31929028608.0000\n"
     ]
    },
    {
     "data": {
      "text/plain": [
       "<keras.callbacks.History at 0x1f0b9a73130>"
      ]
     },
     "execution_count": 289,
     "metadata": {},
     "output_type": "execute_result"
    }
   ],
   "source": [
    "model.fit(x=X_train,y=y_train,\n",
    "          validation_data=(X_test,y_test),\n",
    "         batch_size=128,epochs=400)"
   ]
  },
  {
   "cell_type": "code",
   "execution_count": 258,
   "metadata": {},
   "outputs": [],
   "source": [
    "losses=pd.DataFrame(model.history.history)"
   ]
  },
  {
   "cell_type": "code",
   "execution_count": 259,
   "metadata": {},
   "outputs": [
    {
     "data": {
      "text/html": [
       "<div>\n",
       "<style scoped>\n",
       "    .dataframe tbody tr th:only-of-type {\n",
       "        vertical-align: middle;\n",
       "    }\n",
       "\n",
       "    .dataframe tbody tr th {\n",
       "        vertical-align: top;\n",
       "    }\n",
       "\n",
       "    .dataframe thead th {\n",
       "        text-align: right;\n",
       "    }\n",
       "</style>\n",
       "<table border=\"1\" class=\"dataframe\">\n",
       "  <thead>\n",
       "    <tr style=\"text-align: right;\">\n",
       "      <th></th>\n",
       "      <th>loss</th>\n",
       "      <th>val_loss</th>\n",
       "    </tr>\n",
       "  </thead>\n",
       "  <tbody>\n",
       "    <tr>\n",
       "      <th>0</th>\n",
       "      <td>4.196957e+11</td>\n",
       "      <td>4.422202e+11</td>\n",
       "    </tr>\n",
       "    <tr>\n",
       "      <th>1</th>\n",
       "      <td>4.190167e+11</td>\n",
       "      <td>4.397463e+11</td>\n",
       "    </tr>\n",
       "    <tr>\n",
       "      <th>2</th>\n",
       "      <td>4.090372e+11</td>\n",
       "      <td>4.157182e+11</td>\n",
       "    </tr>\n",
       "    <tr>\n",
       "      <th>3</th>\n",
       "      <td>3.567629e+11</td>\n",
       "      <td>3.242006e+11</td>\n",
       "    </tr>\n",
       "    <tr>\n",
       "      <th>4</th>\n",
       "      <td>2.317995e+11</td>\n",
       "      <td>1.756208e+11</td>\n",
       "    </tr>\n",
       "  </tbody>\n",
       "</table>\n",
       "</div>"
      ],
      "text/plain": [
       "           loss      val_loss\n",
       "0  4.196957e+11  4.422202e+11\n",
       "1  4.190167e+11  4.397463e+11\n",
       "2  4.090372e+11  4.157182e+11\n",
       "3  3.567629e+11  3.242006e+11\n",
       "4  2.317995e+11  1.756208e+11"
      ]
     },
     "execution_count": 259,
     "metadata": {},
     "output_type": "execute_result"
    }
   ],
   "source": [
    "losses.head()"
   ]
  },
  {
   "cell_type": "code",
   "execution_count": 260,
   "metadata": {},
   "outputs": [
    {
     "data": {
      "text/plain": [
       "0.0"
      ]
     },
     "execution_count": 260,
     "metadata": {},
     "output_type": "execute_result"
    }
   ],
   "source": [
    "X_train.min()"
   ]
  },
  {
   "cell_type": "code",
   "execution_count": 261,
   "metadata": {},
   "outputs": [
    {
     "data": {
      "text/plain": [
       "1.0"
      ]
     },
     "execution_count": 261,
     "metadata": {},
     "output_type": "execute_result"
    }
   ],
   "source": [
    "X_train.max()"
   ]
  },
  {
   "cell_type": "code",
   "execution_count": 262,
   "metadata": {},
   "outputs": [
    {
     "data": {
      "text/plain": [
       "<AxesSubplot:>"
      ]
     },
     "execution_count": 262,
     "metadata": {},
     "output_type": "execute_result"
    },
    {
     "data": {
      "image/png": "[encoded data removed]",
      "text/plain": [
       "<Figure size 432x288 with 1 Axes>"
      ]
     },
     "metadata": {
      "needs_background": "light"
     },
     "output_type": "display_data"
    }
   ],
   "source": [
    "losses.plot()"
   ]
  },
  {
   "cell_type": "code",
   "execution_count": 263,
   "metadata": {},
   "outputs": [],
   "source": [
    "from sklearn.metrics import mean_squared_error,mean_absolute_error,explained_variance_score"
   ]
  },
  {
   "cell_type": "code",
   "execution_count": 264,
   "metadata": {},
   "outputs": [
    {
     "name": "stdout",
     "output_type": "stream",
     "text": [
      "203/203 [==============================] - 0s 1ms/step\n"
     ]
    }
   ],
   "source": [
    "predictions=model.predict(X_test)"
   ]
  },
  {
   "cell_type": "code",
   "execution_count": 265,
   "metadata": {},
   "outputs": [
    {
     "name": "stdout",
     "output_type": "stream",
     "text": [
      "32207719215.932236\n",
      "179465.09191464572\n"
     ]
    }
   ],
   "source": [
    "print(mean_squared_error(y_test,predictions))\n",
    "print(np.sqrt(mean_squared_error(y_test,predictions)))"
   ]
  },
  {
   "cell_type": "code",
   "execution_count": 266,
   "metadata": {},
   "outputs": [
    {
     "data": {
      "text/plain": [
       "106259.17156052399"
      ]
     },
     "execution_count": 266,
     "metadata": {},
     "output_type": "execute_result"
    }
   ],
   "source": [
    "mean_absolute_error(y_test,predictions)"
   ]
  },
  {
   "cell_type": "code",
   "execution_count": 267,
   "metadata": {},
   "outputs": [
    {
     "data": {
      "text/plain": [
       "count    2.161300e+04\n",
       "mean     5.400881e+05\n",
       "std      3.671272e+05\n",
       "min      7.500000e+04\n",
       "25%      3.219500e+05\n",
       "50%      4.500000e+05\n",
       "75%      6.450000e+05\n",
       "max      7.700000e+06\n",
       "Name: price, dtype: float64"
      ]
     },
     "execution_count": 267,
     "metadata": {},
     "output_type": "execute_result"
    }
   ],
   "source": [
    "df['price'].describe()"
   ]
  },
  {
   "cell_type": "code",
   "execution_count": 268,
   "metadata": {},
   "outputs": [
    {
     "data": {
      "text/plain": [
       "0.7769043113002326"
      ]
     },
     "execution_count": 268,
     "metadata": {},
     "output_type": "execute_result"
    }
   ],
   "source": [
    "explained_variance_score(y_test,predictions)"
   ]
  },
  {
   "cell_type": "code",
   "execution_count": 269,
   "metadata": {},
   "outputs": [
    {
     "data": {
      "text/plain": [
       "[<matplotlib.lines.Line2D at 0x1f0c587fcd0>]"
      ]
     },
     "execution_count": 269,
     "metadata": {},
     "output_type": "execute_result"
    },
    {
     "data": {
      "image/png": "[encoded data removed]",
      "text/plain": [
       "<Figure size 720x432 with 1 Axes>"
      ]
     },
     "metadata": {
      "needs_background": "light"
     },
     "output_type": "display_data"
    }
   ],
   "source": [
    "plt.figure(figsize=(10,6))\n",
    "plt.scatter(x=y_test,y=predictions)\n",
    "plt.plot(y_test,y_test,'r')"
   ]
  },
  {
   "cell_type": "code",
   "execution_count": 270,
   "metadata": {},
   "outputs": [
    {
     "data": {
      "text/plain": [
       "bedrooms            3.0000\n",
       "bathrooms           1.0000\n",
       "sqft_living      1180.0000\n",
       "sqft_lot         5650.0000\n",
       "floors              1.0000\n",
       "waterfront          0.0000\n",
       "view                0.0000\n",
       "condition           3.0000\n",
       "grade               7.0000\n",
       "sqft_above       1180.0000\n",
       "sqft_basement       0.0000\n",
       "yr_built         1955.0000\n",
       "yr_renovated        0.0000\n",
       "lat                47.5112\n",
       "long             -122.2570\n",
       "sqft_living15    1340.0000\n",
       "sqft_lot15       5650.0000\n",
       "year             2014.0000\n",
       "month              10.0000\n",
       "Name: 0, dtype: float64"
      ]
     },
     "execution_count": 270,
     "metadata": {},
     "output_type": "execute_result"
    }
   ],
   "source": [
    "single_house=df.drop(['price','sqft_above'],axis=1).iloc[0]\n",
    "df.drop('price',axis=1).iloc[0]"
   ]
  },
  {
   "cell_type": "code",
   "execution_count": 271,
   "metadata": {},
   "outputs": [],
   "source": [
    "single_house=scaler.transform(single_house.values.reshape(-1,18))"
   ]
  },
  {
   "cell_type": "code",
   "execution_count": 272,
   "metadata": {},
   "outputs": [
    {
     "name": "stdout",
     "output_type": "stream",
     "text": [
      "1/1 [==============================] - 0s 21ms/step\n"
     ]
    },
    {
     "data": {
      "text/plain": [
       "array([[286783.84]], dtype=float32)"
      ]
     },
     "execution_count": 272,
     "metadata": {},
     "output_type": "execute_result"
    }
   ],
   "source": [
    "model.predict(single_house)"
   ]
  },
  {
   "cell_type": "code",
   "execution_count": 273,
   "metadata": {},
   "outputs": [
    {
     "data": {
      "text/html": [
       "<div>\n",
       "<style scoped>\n",
       "    .dataframe tbody tr th:only-of-type {\n",
       "        vertical-align: middle;\n",
       "    }\n",
       "\n",
       "    .dataframe tbody tr th {\n",
       "        vertical-align: top;\n",
       "    }\n",
       "\n",
       "    .dataframe thead th {\n",
       "        text-align: right;\n",
       "    }\n",
       "</style>\n",
       "<table border=\"1\" class=\"dataframe\">\n",
       "  <thead>\n",
       "    <tr style=\"text-align: right;\">\n",
       "      <th></th>\n",
       "      <th>price</th>\n",
       "      <th>bedrooms</th>\n",
       "      <th>bathrooms</th>\n",
       "      <th>sqft_living</th>\n",
       "      <th>sqft_lot</th>\n",
       "      <th>floors</th>\n",
       "      <th>waterfront</th>\n",
       "      <th>view</th>\n",
       "      <th>condition</th>\n",
       "      <th>grade</th>\n",
       "      <th>sqft_above</th>\n",
       "      <th>sqft_basement</th>\n",
       "      <th>yr_built</th>\n",
       "      <th>yr_renovated</th>\n",
       "      <th>lat</th>\n",
       "      <th>long</th>\n",
       "      <th>sqft_living15</th>\n",
       "      <th>sqft_lot15</th>\n",
       "      <th>year</th>\n",
       "      <th>month</th>\n",
       "    </tr>\n",
       "  </thead>\n",
       "  <tbody>\n",
       "    <tr>\n",
       "      <th>0</th>\n",
       "      <td>221900.0</td>\n",
       "      <td>3</td>\n",
       "      <td>1.0</td>\n",
       "      <td>1180</td>\n",
       "      <td>5650</td>\n",
       "      <td>1.0</td>\n",
       "      <td>0</td>\n",
       "      <td>0</td>\n",
       "      <td>3</td>\n",
       "      <td>7</td>\n",
       "      <td>1180.0</td>\n",
       "      <td>0</td>\n",
       "      <td>1955</td>\n",
       "      <td>0</td>\n",
       "      <td>47.5112</td>\n",
       "      <td>-122.257</td>\n",
       "      <td>1340</td>\n",
       "      <td>5650</td>\n",
       "      <td>2014</td>\n",
       "      <td>10</td>\n",
       "    </tr>\n",
       "  </tbody>\n",
       "</table>\n",
       "</div>"
      ],
      "text/plain": [
       "      price  bedrooms  bathrooms  sqft_living  sqft_lot  floors  waterfront  \\\n",
       "0  221900.0         3        1.0         1180      5650     1.0           0   \n",
       "\n",
       "   view  condition  grade  sqft_above  sqft_basement  yr_built  yr_renovated  \\\n",
       "0     0          3      7      1180.0              0      1955             0   \n",
       "\n",
       "       lat     long  sqft_living15  sqft_lot15  year  month  \n",
       "0  47.5112 -122.257           1340        5650  2014     10  "
      ]
     },
     "execution_count": 273,
     "metadata": {},
     "output_type": "execute_result"
    }
   ],
   "source": [
    "df.head(1)"
   ]
  },
  {
   "cell_type": "code",
   "execution_count": null,
   "metadata": {},
   "outputs": [],
   "source": []
  }
 ],
 "metadata": {
  "kernelspec": {
   "display_name": "Python 3",
   "language": "python",
   "name": "python3"
  },
  "language_info": {
   "codemirror_mode": {
    "name": "ipython",
    "version": 3
   },
   "file_extension": ".py",
   "mimetype": "text/x-python",
   "name": "python",
   "nbconvert_exporter": "python",
   "pygments_lexer": "ipython3",
   "version": "3.8.5"
  }
 },
 "nbformat": 4,
 "nbformat_minor": 4
}
